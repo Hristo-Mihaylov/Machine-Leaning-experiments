{
 "cells": [
  {
   "cell_type": "markdown",
   "metadata": {},
   "source": [
    "# Lab 1: Python exercises for COMP24111\n",
    "\n",
    "# 1. Instruction\n",
    "\n",
    "There are a total of 12 exercises. You are asked to complete all of them. Print out the final results, and comment if needed. Make sure your results can be reproduced by your TA using Restart & Run All."
   ]
  },
  {
   "cell_type": "markdown",
   "metadata": {},
   "source": [
    "## 2. Exercises\n",
    "\n",
    "Start with our provided supporting tutorial \"Instruction on Mathematical Programming in Python\", if needed, also the file \"Maths Knowledge Overview - COMP24112\". After you are familiar with the basics, you can proceed to the exercises.\n"
   ]
  },
  {
   "cell_type": "markdown",
   "metadata": {},
   "source": [
    "### Exercise 1\n",
    "\n",
    "Input a 4 by 4 magic square matrix \n",
    "$$\\textbf{A}=\n",
    "\\left[\n",
    "\\begin{array}{cccc}\n",
    "        16   &   3 &  2 & 13 \\\\\n",
    "        5    &  10 & 11 &  8 \\\\\n",
    "        9    &   6 &  7 & 12 \\\\\n",
    "        4    &  15 & 14 &  1 \\\\\n",
    "\\end{array}\n",
    "\\right]. \n",
    "$$  \n",
    "\n",
    "Generate a 4 by 4 matrix $\\textbf{B}$ with random integer entries. Set $\\textbf{C}$ to be a 4 by 4 matrix with 1's on the diagonal and 0's elsewhere. Check to see that, $\\textbf{A}$, $\\textbf{B}$ and $\\textbf{C}$ are all present. Compute the sum of the third column of $\\textbf{A}$."
   ]
  },
  {
   "cell_type": "code",
   "execution_count": 6,
   "metadata": {},
   "outputs": [
    {
     "name": "stdout",
     "output_type": "stream",
     "text": [
      "84 82 12 4 84 82 12 4 84 82 12 4 84 82 12 4 "
     ]
    }
   ],
   "source": [
    "# Write your code here\n",
    "import random\n",
    "B = []\n",
    "rows = []\n",
    "for i in range (0,4):\n",
    "    for j in range (0,4):\n",
    "        rows.append(random.randint(1,100))\n",
    "    B.append(rows)    \n",
    "for i in range (0,4):\n",
    "    for j in range (0,4):\n",
    "        print(B[i][j], end=' ')\n",
    "    print(\"\\n\")"
   ]
  },
  {
   "cell_type": "markdown",
   "metadata": {},
   "source": [
    "### Exercise 2\n",
    "\n",
    "Generate a 4 by 2 matrix consisting of the odd-numbered columns of $\\textbf{B}$  using the colon operator."
   ]
  },
  {
   "cell_type": "code",
   "execution_count": 2,
   "metadata": {},
   "outputs": [],
   "source": [
    "# Write your code here"
   ]
  },
  {
   "cell_type": "markdown",
   "metadata": {},
   "source": [
    "### Exercise 3\n",
    "\n",
    "Generate a 4 by 2 matrix containing two different columns that are randomly selected from the columns of $\\textbf{B}$. Generate a 3 by 4 matrix containing three different rows that are randomly selected from the rows of $\\textbf{B}$. "
   ]
  },
  {
   "cell_type": "code",
   "execution_count": 3,
   "metadata": {},
   "outputs": [],
   "source": [
    "# Write your code here"
   ]
  },
  {
   "cell_type": "markdown",
   "metadata": {},
   "source": [
    "### Exercise 4\n",
    "\n",
    "The matrix $\\textbf{A}$ is a magic square, in which the sum of each row, each column, and each diagonal is the same. First check whether $\\textbf{A}$ satisfies this  magic square condition, then sort the 2nd row of $\\textbf{A}$ by using appropriate commands."
   ]
  },
  {
   "cell_type": "code",
   "execution_count": 4,
   "metadata": {},
   "outputs": [],
   "source": [
    "# Write your code here"
   ]
  },
  {
   "cell_type": "markdown",
   "metadata": {},
   "source": [
    "### Exercise 5\n",
    "\n",
    "Set $\\textbf{B}$ as an identity matrix, multiplication of $\\textbf{A}$ by $\\textbf{B}$ should yield $\\textbf{A}$. Check this. What does component by component multipilication give? Check this. "
   ]
  },
  {
   "cell_type": "code",
   "execution_count": 5,
   "metadata": {},
   "outputs": [],
   "source": [
    "# Write your code here"
   ]
  },
  {
   "cell_type": "markdown",
   "metadata": {},
   "source": [
    "### Exercise 6\n",
    "\n",
    "Count the number of values of $\\textbf{A}$ which are greater than 10 using logical operators."
   ]
  },
  {
   "cell_type": "code",
   "execution_count": 6,
   "metadata": {},
   "outputs": [],
   "source": [
    "# Write your code here"
   ]
  },
  {
   "cell_type": "markdown",
   "metadata": {},
   "source": [
    "### Exercise 7\n",
    "\n",
    "The reciprocal of a number $x$ is  $1/x$. Use `for` loops to  create  a new matrix $\\textbf{B}$, where each element in $\\textbf{B}$ is the reciprocal of the corresponding element in $\\textbf{A}$, and sum the columns of $\\textbf{B}$. Now create the same matrix $\\textbf{B}$ and calculate its column sums in a single operation, using matrix commands, without a `for` loop."
   ]
  },
  {
   "cell_type": "code",
   "execution_count": 7,
   "metadata": {},
   "outputs": [],
   "source": [
    "# Write your code here"
   ]
  },
  {
   "cell_type": "markdown",
   "metadata": {},
   "source": [
    "### Exercise 8\n",
    "\n",
    "Plot the log and square root of the integers from $1$ to $100$ in one single figure. Provide axis names, legend and title for the figure."
   ]
  },
  {
   "cell_type": "code",
   "execution_count": 8,
   "metadata": {},
   "outputs": [],
   "source": [
    "# Write your code here"
   ]
  },
  {
   "cell_type": "markdown",
   "metadata": {},
   "source": [
    "### Exercise 9\n",
    "\n",
    "Let $\\boldsymbol{y} $ be an $N$-dimensional column vector with $y_i$ denoting its $i$-th element. \n",
    "Let $\\textbf{X}$ be an $N$ by $D$ matrix and $\\boldsymbol{x}_{i}$ be a column vector which is the transpose of the $i$-th row of $\\textbf{X}$.\n",
    "Let $\\boldsymbol{w}$ be a $D$-dimensional column vector. \n",
    "Choose a value for $N$ and a value for $D$ as you like, generate $\\boldsymbol{y}$, $\\textbf{X}$ and $\\boldsymbol{w}$ containing random elements.\n",
    "Use matrix operations and `for` loops to verify the following two quantities are equal. \n",
    "$$ \\boldsymbol{g}_1 = \\textbf{X}^T\\textbf{X} \\boldsymbol{w}-\\textbf{X}^T \\boldsymbol{y}$$\n",
    "$$ \\boldsymbol{g}_2 = \\sum_{i=1}^N \\left(\\boldsymbol{x}_{i}^T \\boldsymbol{w}- y_i\\right) \\boldsymbol{x}_{i}$$\n"
   ]
  },
  {
   "cell_type": "code",
   "execution_count": 9,
   "metadata": {},
   "outputs": [],
   "source": [
    "# Write your code here"
   ]
  },
  {
   "cell_type": "markdown",
   "metadata": {},
   "source": [
    "### Exercise 10\n",
    "\n",
    "Calculate the derivative of function $f(x) = x^2+3x+1$ at 10 randomly chosen values of $x$. Write a user-defined function for calculating an approximated derivative of an input function based on \n",
    "\n",
    "$$\\frac{d f(x)}{d x}=\\frac{f(x+\\Delta x)-f(x)}{\\Delta x} ~ .$$\n",
    "\n",
    "Use this function to calculate the approximated derivative for $f(x) = x^2+3x+1$ at the same 10 chosen values of $x$ for $\\Delta x = 1$, $\\Delta x = 0.1$ and $\\Delta x = 0.001$. Plot your derivatives and the approximated derivatives in the same figure. Which $\\Delta x$ gives you a better approximation?"
   ]
  },
  {
   "cell_type": "code",
   "execution_count": 10,
   "metadata": {},
   "outputs": [],
   "source": [
    "# Write your code here"
   ]
  },
  {
   "cell_type": "markdown",
   "metadata": {},
   "source": [
    "### Exercise 11\n",
    "\n",
    "Given two $d$-dimensional data points $\\boldsymbol{x} = [x_1,x_2,\\dots,x_d]$ and $\\boldsymbol{y}=[y_1,y_2,\\dots,y_d]$. The Euclidean distance between these two points is computed as \n",
    "\n",
    "$$\n",
    "d(\\boldsymbol{x},\\boldsymbol{y}) = \\sqrt{\\sum_{i=1}^d (x_i-y_i)^2} = \\sqrt{\\boldsymbol{x}\\boldsymbol{x}^T - 2\\boldsymbol{x}\\boldsymbol{y}^T+\\boldsymbol{y}\\boldsymbol{y}^T}.\n",
    "$$\n",
    "\n",
    "Generate $5$ random $3$-dimensional points and store them in a $5\\times 3$ matrix called $\\textbf{A}$ ($5$ rows and $3$ columns). Generate another $8$ random $3$-dimensional points and store them in a $8\\times 3$ matrix called $\\textbf{B}$ ($8$ rows and $3$ columns). Calculate the Euclidean distance between the $5$ and $8$ points, and store these distances in a $5\\times 8$ matrix called $\\textbf{D}$ using `for` loops ($5$ rows and $8$ colums). "
   ]
  },
  {
   "cell_type": "code",
   "execution_count": 11,
   "metadata": {},
   "outputs": [],
   "source": [
    "# Write your code here"
   ]
  },
  {
   "cell_type": "markdown",
   "metadata": {},
   "source": [
    "### Exercise 12\n",
    "\n",
    "Repeat Exercise 11 using matrix operations only, without loops."
   ]
  },
  {
   "cell_type": "code",
   "execution_count": 12,
   "metadata": {},
   "outputs": [],
   "source": [
    "# Write your code here"
   ]
  }
 ],
 "metadata": {
  "kernelspec": {
   "display_name": "Python 3",
   "language": "python",
   "name": "python3"
  },
  "language_info": {
   "codemirror_mode": {
    "name": "ipython",
    "version": 3
   },
   "file_extension": ".py",
   "mimetype": "text/x-python",
   "name": "python",
   "nbconvert_exporter": "python",
   "pygments_lexer": "ipython3",
   "version": "3.7.6"
  }
 },
 "nbformat": 4,
 "nbformat_minor": 2
}
