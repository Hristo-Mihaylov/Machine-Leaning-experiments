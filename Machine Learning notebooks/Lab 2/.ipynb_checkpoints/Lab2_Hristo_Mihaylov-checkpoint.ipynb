{
 "cells": [
  {
   "cell_type": "markdown",
   "metadata": {},
   "source": [
    "##  COMP24112 Lab 2: News Article Classification\n",
    "\n",
    "## 1. Task description\n",
    "\n",
    "You will work on a news article classification task.\n",
    "The provided dataset includes a total of 800 articles taken from Reuters newswire.\n",
    "They belong to 4 classes: \"earn\" (0), \"crude\" (1), \"trade\" (2) and \"interest\" (3).\n",
    "There are 200 articles per class.\n",
    "Each article is characterised by word occurrences.\n",
    "The list of used words is called a vocabulary.\n",
    "In our dataset, the vocabulary includes a total of 6428 words. "
   ]
  },
  {
   "cell_type": "markdown",
   "metadata": {},
   "source": [
    "## 2. Preparation\n",
    "\n",
    "First we need to import the data.\n",
    "Run the below cell to load the data using NumPy."
   ]
  },
  {
   "cell_type": "code",
   "execution_count": 598,
   "metadata": {},
   "outputs": [],
   "source": [
    "# Hristo Mihaylov\n",
    "import numpy as np\n",
    "import matplotlib.pyplot as plt\n",
    "import scipy.sparse\n",
    "\n",
    "data, labels, class_names, vocabulary = np.load(\"ReutersNews_4Classes_sparse.npy\", allow_pickle=True)"
   ]
  },
  {
   "cell_type": "markdown",
   "metadata": {},
   "source": [
    "### A Note on Sparsity\n",
    "\n",
    "Most documents only contain a small subset of the vocabulary, resulting in a very sparse data matrix.\n",
    "To handle the sparsity, in this exercise `data` is represented as a `scipy.sparse.csr_matrix`, which can store sparse matrices efficiently while still allowing efficient row-based indexing.\n",
    "You can learn more about `csr_matrix` and other ways of dealing with sparse matrices at https://docs.scipy.org/doc/scipy/reference/sparse.html.\n",
    "\n",
    "Note, however, that `data` is **not** a normal NumPy array.\n",
    "While most operations will be the same as with a normal dense array, **you cannot use a sparse matrix to index another matrix**.\n",
    "If you need to do this, either first convert the matrix to a NumPy array with the `toarray()` method, or use methods specifically designed to work with sparse matrices."
   ]
  },
  {
   "cell_type": "code",
   "execution_count": 599,
   "metadata": {},
   "outputs": [
    {
     "name": "stdout",
     "output_type": "stream",
     "text": [
      "  (0, 2)\t1\n",
      "  (0, 3)\t3\n",
      "  (0, 5)\t1\n",
      "  (0, 8)\t1\n",
      "  (0, 10)\t1\n",
      "  (0, 11)\t1\n",
      "  (0, 12)\t1\n",
      "  (0, 13)\t1\n",
      "  (0, 21)\t2\n",
      "  (0, 24)\t1\n",
      "  (0, 105)\t1\n",
      "  (0, 127)\t1\n",
      "  (0, 227)\t1\n",
      "  (0, 275)\t1\n",
      "  (0, 334)\t2\n",
      "  (0, 341)\t1\n",
      "  (0, 348)\t1\n",
      "  (0, 359)\t1\n",
      "  (0, 411)\t1\n",
      "  (0, 426)\t1\n",
      "  (0, 1428)\t1\n",
      "  (0, 2058)\t1\n",
      "  (0, 5555)\t1\n",
      "[[0 0 1 ... 0 0 0]]\n",
      "['share' 'split' 'say' 'two-for-one' 'shareholder' 'annual' 'meeting'\n",
      " 'reuter' 'ct' 'note' 'company' 'pay' 'subject' 'increase' 'stock'\n",
      " 'dividend' 'april' 'northern' 'declare' 'approval' 'telecom' 'post-split'\n",
      " 'nt']\n"
     ]
    }
   ],
   "source": [
    "print(data[41,:]) # A sparse row vector; the output will be the non-zero indices and their values.\n",
    "print(data[41,:].toarray()) # Convert back to a NumPy array. Note that the result is a (1, 6428) matrix, not a vector.\n",
    "# print(vocabulary[data[41,:] > 0]) # Can't index vocabulary with a sparse matrix.\n",
    "rows, columns, values = scipy.sparse.find(data[41,:]) # Find the non-zero entries in the 42nd document.\n",
    "print(vocabulary[columns]) # Prints the words present in the 42nd document."
   ]
  },
  {
   "cell_type": "markdown",
   "metadata": {},
   "source": [
    "To see the full vocabulary, you can run"
   ]
  },
  {
   "cell_type": "code",
   "execution_count": 600,
   "metadata": {
    "scrolled": true
   },
   "outputs": [
    {
     "name": "stdout",
     "output_type": "stream",
     "text": [
      "island, telephone, share, split, approve, say, previously, announce, two-for-one, common, shareholder, annual, meeting, reuter, year, net, shr, loss, nil, vs, profit, ct, rev, mln, note, current, include, charge, discontinue, operation, dlr, ec, state, tax, majority, european, community, member, strong, reservation, import, domestically-produced, oil, fat, propose, commission, senior, diplomat, special, committee, agricultural, expert, voice, objection, measure, prepare, ground, farm, begin, monday, add, france, italy, indicate, support, proposal, lead, initially, tonne, 1987/88, price, round, complete, sale, french, unit, business, compagnie, francaise, group, investor, employee, minnesota, disclose, term, deal, plan, asset, electronic, shoe, town, end, jan, respectively, december, wisconsin, fwb, buy, bank, corp, acquire, bancshare, cash, acquisition, hold, company, total, billion, purchase, time, earning, office, paul, area, american, product, 3rd, qtr, period, feb, mth, avg, 4th, seven, entertainment, publication, disposal, pay, store, correct, mobil, mob, upgrade, refinery, spend, texas, catalytic, convert, component, gasoline, use, super, unleaded, allow, continuous, basis, shutdown, currently, shut, twice, produce, barrel, day, construction, start, late, completion, set, output, inc., result, slightly, ab, weakening, dollar, cause, drop, chief, executive, good, final, report, release, earlier, allocation, crown, compare, despite, fall, industrial, high, car, truck, completely, sell, year-end, operate, income, financial, strength, exceptional, opportunity, invest, future, meridian, energy, letter, intent, development, privately-held, decide, terminate, exclude, quarter, extraordinary, gain, british, minister, discuss, public, spending, finance, need, control, talk, today, chancellor, exchequer, nigel, lawson, treasury, spokesman, review, economy, domestic, decline, comment, subject, concerted, action, arise, u., currency, dip, sharply, week, month, relative, stability, agreement, major, industrialised, nation, paris, february, stabilise, feed, heller, urge, broad, reform, aid, banking, federal, reserve, board, governor, robert, strengthen, permit, formation, service, involve, like, insurance, real, estate, security, speech, delivery, new, york, analyst, association, believe, increase, diversification, line, key, idea, advocate, regulation, various, thrift, investment, subsidiary, handle, limit, place, extension, credit, associate, institution, transaction, necessary, avoid, abuse, position, require, serve, make, commitment, maintain, capital, word, fail, long, positive, commercial, enterprise, provision, flow, effect, corporation, customer, deposit, assure, incentive, remove, access, national, international, united, mean, steady, america, world, table, competitive, department, qtly, div, pct, 2-for-1, stock, cie, advance, science, datum, available, raise, dividend, quarterly, form, ask, number, payable, pre-split, april, record, distribute, receive, commonwealth, settlement, debt, stockholder, california, concern, title, northern, county, costa, san, home, saving, initial, cotton, u.s., run, season, census, bureau, brand, bp, manage, director, hike, standard, offer, user, merger, pacific, union, processing, mutually, agree, withdraw, negotiation, sign, merge, november, continue, ownership, commit, additional, history, expect, after-tax, close, primarily, direct, mail, marketing, likely, meet, growth, goal, lose, industry, regular, payout, declare, class, equal, prior, manufacturing, paper, dunn, jame, river, partly, reduce, contingent, payment, offset, closing, approval, satisfactory, labor, old, republic, int'l, june, crn, money, market, mutual, fund, expectation, value, petroleum, plc, half, signal, patch, think, bid, clear, confidence, higher, sanford, margosh, shearson, lehman, brother, early, tender, opec, win, war, crack, bruce, huge, implication, rest, issue, particularly, target, mention, usx, court, draw, attention, australian, holme, rumor, foresee, firm, takeover, situation, exception, possibly, partner, ago, restructure, point, rally, response, exxon, xon, rise, 1-1/8, chevron, chv, jump, texaco, tx, climb, 1/4, unocal, ucl, 1-3/4, occidental, amoco, 6-1/4, heavy, trading, session, wall, speculate, boost, 2-1/4, fact, giant, change, outlook, stay, hasty, view, look, long-term, heart, exceed, benchmark, crude, west, intermediate, trade, able, bright, alaskan, prudhoe, bay, field, north, extremely, attractive, large, just, fit, dean, witter, eugene, ahead, government, u.k., dispose, way, unite, revenue, cable, acre, co., finalize, bancorp, universal, holding, contract, obligation, chairman, freedom, recognize, first-quarter, defer, complex, recognition, come, repayment, loan, grant, commerce, house, dec, investigate, assurance, succeed, experience, negative, waiver, marine, midland, working, guarantee, secure, substantially, bernard, president, act, officer, engineering, halt, software, shipment, temporarily, technical, problem, program, anticipate, resume, fourth, oper, adjust, reverse, october, fair, lane, right, realty, research, backlog, cardena, decision, jorge, manager, colombia, coffee, federation, important, emerge, upcoming, organization, london, march, council, export, quota, routine, happen, unlikely, tell, journalist, suspend, failure, colombian, reporter, weekly, brazil, far, apart, prompt, yesterday, policy, know, project, stockpile, level, producer, accord, statistic, shortfall, regulatory, agency, 1st, earn, year-ago, tobacco, strike, introduce, low-priced, cigarette, performance, operating, trader, soviet, sugar, raw, night, hand, discount, spot, source, japanese, cargo, thai, relatively, nearby, remain, sharp, help, provoke, cover, cent, pound, limited, trust, date, proceed, hilton, holder, cease, liquidate, worth, debenture, substitute, distribution, connection, represent, balance, satisfy, liability, second, vote, profitable, follow, specific, figure, definitely, news, amendment, certificate, relate, center, property, plastic, work, denis, consumer, delegate, formally, present, friday, widespread, outstanding, item, reach, bilateral, consultation, delegation, main, draft, rule, package, certain, want, discussion, differential, different, origin, forward, material, minor, modification, original, intend, single, candidate, post, coast, exist, gmt, management, pledge, provide, expand, base, combustion, csp, environmental, principle, e.c, jordan, privately, pom, potomac, electric, power, virginia, territory, mainly, low, margin, cost, enter, head, design, manufacture, restructuring, adversely, affect, realize, significant, expense, remainder, pact, ohio, wholly, warrant, creditor, thing, micro, device, develop, chip, gate, complexity, harden, n.y, book, acceptance, nationally, schedule, borrowing, city, borrow, wednesday, two-week, statement, assumption, preferred, reorganization, resource, equivalent, previous, 3-for-2, effective, entitle, arsenal, determine, small, fiscal, attribute, pressure, cut, gross, addition, incur, aim, productivity, undertake, extend, hour, salary, job, save, annually, care, supply, average, free, depressed, seasonally, revise, economist, poll, forecast, forgiveness, dealer, collapse, foreign, exchange, speculation, germany, big, crash, stand, damage, claim, case, seek, mark, accuse, manipulate, private, great, recently, appeal, people, medical, evidence, life, crucial, hernandez, arturo, grisanti, regional, exporter, critical, effort, achieve, recovery, stabilize, non-opec, danger, reversal, really, movement, depend, venezuela, speak, opening, fifth, ministerial, informal, latin, caribbean, ecuador, mexico, attend, conference, observer, combat, congress, jaime, lusinchi, miraflore, presidential, palace, javi, espinosa, jose, assistant, secretary, perry, rubio, howard, b., significantly, inventory, potential, possible, shift, demand, brazilian, natural, gas, production, petrobras, basin, country, bpd, consumption, derivative, fuel, medium, general, central, three-for-two, white, semiconductor, economic, recommendation, reagan, retaliate, japan, alleged, unfair, practice, official, retaliation, curb, impose, senate, unanimously, penality, hard, hit, summer, stop, dump, open, return, anti-dumping, duty, semiconductors., indiana, plant, stake, chicago, banker, sec, try, gold, study, recommend, water, license, arrangement, appropriate, financing, estimate, feasibility, canadian, short, yield, rate, probable, ore, grade, yearly, break, zone, considerable, red, lake, mp, coal, related, nominal, consideration, specify, alberta, michael, retain, unspecified, royalty, reclamation, expire, reclaim, activity, occur, principal, authorize, proposed, article, option, broaden, multinational, sweden, variety, instead, optimistic, grow, leadership, intelligence, defense, congressional, joint, improve, worker, attitude, equipment, account, adopt, bring, apparent, solution, immediate, lack, appear, count, n't, marshall, goldman, harvard, university, hearing, fast, step, similar, peter, institute, advanced, commodity, discourage, innovation, technological, resistance, overall, surface, massive, party, complain, carry, conflict, quality, predict, technology, microprocessor, allowance, writedown, preliminary, finding, conduct, examination, authority, adjustment, deplete, environment, improvement, near, portfolio, non-performing, marathon, macmillan, ctc, ontario, ruling, uphold, block, hear, alfre, david, leave, join, motion, restate, reflect, january, delay, force, sheet, omaha, writeoff, subordinated, gatt, warn, budget, protectionism, emphasis, deficit, misplace, lie, agreeement, tariff, stress, protectionist, threaten, fundamental, size, remedie, encourage, personal, percentage, washington, resist, macroeconomic, barrier, little, reduction, inflation, basic, combination, insufficient, excessive, expansion, slow, workforce, risk, loom, imbalance, explanation, prediction, realignment, bear, sizeable, combined, impact, rapidly, worsen, climate, uncertainty, push, turn, trade., surprising, depreciation, expensive, suggest, idle, human, underutilised, factory, gear, abroad, stagnant, pattern, sector, decade, moderately, indebted, chile, philippine, south, korea, thailand, smelter, northw, mid-may, capacity, lease, corp., reopen, successful, unchanged, index, consecutive, year-on-year, september, winter, clothing, vegetable, electricity, housing, education, footwear, unadjusted, tokyo, food, utility, n.z, zealand, statistical, panel, sanction, violation, u.s.-japanese, administration, announcement, frustration, probably, consult, aide, persuade, abide, july, govern, u.s.-made, dumping, closed, unanimous, penalty, contain, semiconductor-based, television, video, cassette, recorder, nakasone, visit, prime, yasuhiro, week-long, cabinet, masaharu, gotoda, resolve, friction, venice, summit, western, democracy, tadashi, kuranari, accompany, ministry, violate, microchip, asia, australia, bp.l, compensation, subsidy, refiner, partially, enable, modest, pre-tax, pct-owned, sustain, exploration, endeavour, 33-1/3, chemical, maker, farmer, finalise, nitrogen, anz, jardine, h.k, turnover, bonus, par, august, broken, hill, pty, brkn., minority, mineral, steel, corporate, adjusted, finish, machine, tape, machinery, downturn, planning, gnp, match, balanced, four-for-one, ordinary, quote, simon, section, especially, hong, kong, land, fleming, lower, reorganisation, strain, flexibility, recent, pende, exercise, nearly, transfer, hk, strategic, spin, dairy, plus, cross, transform, middle, east, weakness, strategy, structure, policy., create, midday, rumour, 1985/86, range, register, qualify, tax-free, introduction, imputation, rank, influence, legislation, confine, division, generally, volume, bass, strait, operational, difficulty, largely, iron, southern, cement, acreage, surplus, lobby, agriculture, usda, taiwan, fulfil, protest, award, dominican, taiwanese, list, badly, lay, staff, entire, container, ship, cancel, local, press, later, file, protection, law, china, morning, charle, comprise, singapore, manila, seoul, osaka, provisional, survey, 1986/87, certainly, long-standing, reason, peso, ready, throw, submit, corazon, aquino, wait, election, enjoy, drive, longer, region, learn, mistake, diversify, corn, farming, cloth, lesson, diversified, industry., room, renewal, write, revive, subsidise, markets., uneconomical, bullish, artificial, happy, supplier, restore, watch, slash, suit, danish, cooperative, yen, anger, telecom, dispute, equity, telecommunication, legal, telecommunications, send, postal, malcolm, baldrige, object, participation, express, oppose, role, dampen, opposition, compete, monopoly, wireless, cawl.l, ford, motor, citibank, na, cci, digital, communication, merrill, lynch, mer, competitor, reject, argue, precedent, channel, dilute, eventually, bache, political, leverage, wo, diplomatic, reasonable, sort, watanabe, keidanren, arrange, outline, thursday, newspaper, britain, apply, placement, participate, wake, spark, herald, subsequent, one-for-four, radio, station, belgian, parent, metal, link, appreciation, defence, document, defend, itself, stg, pretax, u.k, england, shortage, factor, liquidity, mature, drain, aluminium, smelt, past, cheap, primary, indonesia, calendar, tight, recover, weak, dominate, segment, passenger, light, vehicle, suffer, profitability, erode, lift, penetration, buyer, netherland, ban, suspect, foot, mouth, daniel, notify, km, northeast, province, immediately, milk, beef, alternative, canada, al, swap, deputy, jeremy, davis, broadly, nz, overseas, closer, relation, treaty, accept, normally, invite, consolidated, attributable, franc, priority, ag, anticipated, mass, dieter, satisfied, 1984/85, projection, employ, barber, conable, sake, contribution, businessman, academic, support., assist, road, bridge, infrastructure, advantage, rechannelle, notably, india, faster, developed, concessionary, lending, affiliate, ida, reconstruction, ibrd, structural, competition, maybe, und, refine, concentrate, core, five-year, convertible, redeemable, spain, assistance, daily, oblige, borrower, window, normal, overnight, suspension, 10-day, accounting, requirement, peseta, hard-pressed, soothe, defuse, mount, chance, success, slim, box, powerful, ronald, congressman, coincide, retaliatory, live, arm, separate, pep, sagge, short-term, redirect, away, over-dependence, infighting, rob, punch, prevent, insist, pass, parliament, fear, tacit, admission, inadequate, hope, quick, passage, trip, shatter, parliamentary, boycott, face, possibility, virtually, empty-handed, order, liberal, democratic, ldp, deregulation, benefit, accelerate, portion, democrat-controlled, complement, longer-term, high-ranking, advisory, body, haruo, maekawa, concrete, follow-up, potentially, politically, explosive, explicit, reality, subcommittee, consider, undergo, amounte, gradual, outright, band, 9-13/16, intervene, dealing, intervention, aggressive, selling, ease, bundesbank, touch, test, fairly, contrast, progressive, launch, supermarket, minimum, one-for-one, debate, lately, buying, programme, highlight, worldwide, destination, turkey, libya, worthwhile, enquiry, proportion, operator, tighten, considerably, eastern, react, upwards, physical, interim, pakistan, shortly, originally, tomorrow, egypt, arrival, greece, internal, sa, mining, sum, elaborate, societe, countertrade, gap, search, non-communist, conserve, wheat, tea, jute, impetus, stc, mmtc, respect, bulk, promote, indian, spokeswoman, targette, bloc, non-convertible, rupee, textile, narrow, insignificant, shrink, dynamism, discreetly, officially, bartering, yugoslavia, rail, global, clause, preference, kind, flexible, quietly, interested, aircraft, drill, rig, railway, illustrate, korean, drilling, platform, state-run, wholesale, 2nd, carryforward, wage, one-third, transportation, responsible, fish, drug, apparel, spring, merchandise, man, mmb, weather, disrupt, sea, shipping, saturday, rain, wind, tonight, frequent, southwest, northwest, wave, build, diminish, weekend, suez, lloyd, port, chamber, monthly, expected, german, so-called, grey, illegal, pose, hedge, dollar-denominated, third-party, centre, swiftly, mohamme, keen, contentious, concession, question, prove, assign, soon, fully, advise, yr, closely, st., mortgage, servicing, combine, origination, afternoon, austria, austrian, deny, suggestion, vienna, creditanstalt, girozentrale, aware, purely, purpose, han, obtain, application, process, procedure, facility, equally, non-recurring, revaluation, offering, restaurant, manhattan, headquarters, sept, distributor, manufacturer, family, trend, fee, analyze, double, dougla, moderate, particular, vice, identify, it., focus, broadcasting, electrical, consistently, poor, w., establish, expenditure, fine, smoke, condition, quickly, uk, revoke, licence, select, progress, ca, yes, cross-section, influential, increasingly, impatient, sense, urgency, undermine, margaret, thatcher, hesitate, reciprocal, clearly, mind, defict, coordinate, restrictive, feeling, inside, parliamentarian, conservative, refuse, authorise, london-based, legally-binding, channon, engage, collective, alan, clark, interview, certification, overnight., reciprocity, regard, visible, dominant, aspect, fairness., minimise, indication, weigh, wide, retail, building, course, prospect, temporary, indirectly, repurchase, 6-1/8, sydney, ltd., appliance, retroactively, capitalize, intangible, ability, ongoing, waste, removal, mar, outlet, promotional, information, des, nec, pricing, jerome, cornerstone, qtrly, contingency, drawing, fixed, zero, malaysian, malaysia, conclude, unable, implement, organize, assess, sun, publishing, publish, lewis, glamis, glgvf, rebound, florida, mile, offshore, louisiana, gulf, discovery, depth, sand, cubic, choke, owner, venture, oklahoma, slap, receiver, laser-printer, penalize, hitachi, toshiba, fujitsu, reaan, invoke, negotiator, extensive, avail, peg, intention, tuesday, spur, belief, repeat, switch, cargill, echo, warehouse, pick, tab, storage, stipulate, mandatory, disagree, lot, 'll, outside, walter, brown, verify, gather, caution, opinion, difference, pretty, plaza, travel, gro, francisco, 109-billion, rat, lawsuit, dilson, funaro, monetary, imf, carefully, space, post-split, soft, type, slump, tie, network, bond, imperial, tangible, pace, constructive, steam, pronounced, william, reynold, upward, volatile, picture, competitiveness, willing, tolerate, s.g, warburg, door, conclusion, reaffirm, n.a., pursue, adviser, instruct, grain, status, satellite, choose, battle, team, dutch, philip, sit, ally, df, 13-1/2, amid, chinese, engineer, underway, slide, scale, premium, fix, nigeria, weight, minstar, confirm, restrict, maximum, welcome, conform, ring, exclusively, dollar-based, conversion, sterling, alleviate, romania, attract, active, zinc, replace, difficult, totally, disappear, feature, volatility, presently, squeeze, deliver, widen, declaration, 25th, narrowly, notice, resident, charter, glass, dynamic, michigan, den, stage, liquid, seasonal, premi, relax, relaxation, surge, framework, emergency, professor, bit, liberalisation, end-february, angrily, allegedly, eiaj, shoichi, saba, premature, irrational, attempt, assessment, comply, agreement., governmental, reconsider, evaluate, objective, emotional, bias, heated, cut-price, american-made, salvage, multi-lateral, organisation, regret, tree, licensing, bulletin, arab, establishment, preserve, civil, devastate, productive, acceptable, meantime, protect, health, accession, postpone, scrap, abolish, evolution, foreigner, widely, wang, trouble, suitable, unacceptable, sound, conciliatory, bitter, row, explain, stance, thoroughly, kyodo, high-level, settle, formal, request, deadline, u.s./japan, investigation, asian, hammer, distinctly, hajime, tamura, miti, downplay, significance, remark, message, urgently, admit, geneva-based, police, legality, wishful, thinking, confident, unregulated, dry, acknowledge, ensure, tsba.t, likewise, islamic, idb, porfolio, redeem, emirate, wam, cooperation, gcc, bahrain, kuwait, oman, qatar, saudi, arabia, uae, restrain, mid-1986, boom, recession, fresh, coordination, quite, substantial, series, examine, kuwaiti, dinar, trade-weighted, theory, foster, stable, instrument, recognise, hamper, premier, three-year, vice-chairman, banque, morgan, guaranty, treasurer, bad, plunge, economically, brief, pave, soar, dictate, erupt, full-scale, adverse, relationship, isolate, fall-out, sure, perception, respond, that., spread, depict, severe, warning, belligerent, angry, walk, secret, draconian, enforce, irrational., meaningless., solve, convince, allegation, fuer, gemeinwirtschaft, bkfg.f, prospectus, turbulence, troubled, depress, compensate, emphasise, necessarily, debtor, deutsche, sumita, satoshi, beginning, careful, judgement, septemb, steep, stem, peru, garcia, jungle, ecuadorean, border, site, treatment, extract, u.s.-japan, refer, spare, sides., understand, all., observe, adhere, avert, hop, tone, auto, ignore, bidding, partnership, afg, reiterate, negotiate, conglomerate, fetch, inform, explore, prefer, green, correspond, george, cumulative, tropical, woolworth, indonesian, suharto, backdrop, devalue, rupiah, editorial, jakarta, deregulate, non-oil, steadily, burden, end-investor, cautious, coupon, 10-year, favourably, chain, effect., allege, defiance, non-u., chipmaker, non-regulated, 'm, nick, edward, matsushita, rapid, levy, length, erosion, tom, murtha, capel, altogether, harm, approach, contradiction, hurt, vast, carole, ryavec, salomon, stimulate, export-dependent, economy., luxembourg, deterioration, weaken, deteriorate, provisionally, circumstance, beneficial, moment, unusual, petrochemical, regime, newly, valid, frequently, envisage, 91-day, traditional, afford, allot, differ, underlie, guilde, image, shop, inflow, behalf, easy, comparison, supplement, calculation, cartel, ail, transport, yard, capable, renew, 1988/89, sluggish, favourable, taxation, excess, allocate, guideline, fight, hostile, packaging, swedish, mel, attach, hectare, sixth, healthy, monitor, contemplate, broker, auction, est, client, tour, pioneer, popularity, popular, clearing, sight, threat, lessen, external, commissioner, stabilisation, benefitte, initiative, prepared, modestly, john, organic, maintenance, hotel, end-1986, indirect, sach, berlin, commerzbank, cbkg.f, state-owned, bonn, high-technology, reliance, broadly-based, divide, exciting, method, barclay, independent, subscribe, continued, listing, retire, appoint, refrain, directly, seller, aggressively, grangemouth, explosion, accident, kill, person, hydrocracker, overhaul, african, kenya, flat, interbank, mechanism, chocolate, overhang, pull, doubt, rely, reaction, tool, manoeuvre, perfectly, sensitive, winner, effectively, scheme, sdr, disappoint, nv, surprise, apparently, favour, tate, await, organise, willingness, manner, colorado, coastal, repay, continental, motivate, 7-1/2, million, clarify, actively, gilt, gradually, three-month, fluctuate, bullishness, triton, consist, exploratory, conventional, miller, yugoslav, fso, fluctuation, calculate, belgrade, all-time, cite, automotive, injection, gm, peak, gdp, straight, wood, automobile, custom, texa, windfall, scientific, santa, mexican, petroleos, mexicano, pemex, auditor, arthur, andersen, qualified, subsequently, unisy, uis, newport, geneva, switzerland, pro, element, posted, sulphur, 6-3/8, bow, secondary, principally, seaman, calgary, montreal, mid-april, 're, criterion, formula, master, unitholder, brokerage, divestiture, bob, consistent, non-binding, seattle, contravene, event, highly, incident, reveal, remote, sufficient, outcome, dialogue, matter, agenda, representative, imagine, scheduled, blame, rica, damaging, solidarity, adoption, jopling, portugal, weighted, year-earlier, contribute, pipe, spotlight, congres, rap, enormous, symbol, crisis, symbolize, challenge, nuture, multitude, leader, byrd, democrat, speaker, jim, wright, wide-ranging, readie, dismay, sophisticated, host, citrus, tough, relief, controversial, rep., richard, gephardt, aspirant, missouri, example, mid-1988, tired, 'we, marketplace.', argument, refining, garment, maturity, definitive, merchant, lend, undeveloped, clayton, bt, itt, weakened, improved, netback, mediterranean, pipeline, sweet, sour, alaska, europe, brent, bonny, dubai, cif, iran, cruzado, devaluation, unclear, owe, permanently, golden, don, hughe, hug, execute, detroit, versus, perform, repair, athen, aggregate, silver, king, additionally, dalla, mr, fashion, f.w, roughly, processor, self-imposed, cereal, j.p, belgium, affair, scandal, approximately, jpm, mayfair, hanover, guard, park, alarm, houston, 2-1/2, advisor, heat, decrease, heating, gallon, unemployment, social, usual, arrive, correspondent, gerhard, stoltenberg, karl, otto, poehl, italian, blow, baker, meaningful, 2.0-2.5, repo, permanent, float, translate, patent, disposition, dominion, burlington, n.a, concerned, michel, query, publicly, thoma, unavailable, repeatedly, topic, consume, interesting, essentially, evening, medium-, setback, euromarket, furniture, restriction, sir, lengthy, disadvantage, montedison, spa, agro-industrial, characterize, renato, italiana, interstate, donald, entity, 4-7/8, true, story, play, heavily, fabric, outlay, johnson, enhance, unsuccessful, 5/8, last-ditch, makoto, kuroda, smith, smart, audio, likelihood, monitoring, honor, enforcement, injure, enact, counter, redress, inaccurate, supply-demand, carolina, mellon, marlin, fitzwater, spite, jone, terminal, rent, freddie, beer, guilder, spanish, el, s.a., van, africa, essential, nigerian, successfully, banana, finally, bar, moscow, 12-1/2, samuel, traditionally, shelf, aegean, armed, confrontation, ambassador, nazmi, akiman, greek, reply, turkish, content, reinvest, laser, regulator, criticize, dilution, safety, virtual, responsive, vary, installation, itc, momentum, attain, tranzonic, tnz, iii, atlantic, connect, earthquake, 90-day, iraqi, troop, iranian, iraq, occupy, command, victory, thrust, attack, warplane, tank, baghdad, plane, destroy, raid, shoot, naval, sink, boat, inspection, inspect, administrator, phase, disruption, pilot, airline, assume, realistic, vulnerable, rental, emphasize, escalate, kick, louis, tailor, irna, gholamreza, aqazadeh, manpower, training, exploitation, forum, consequently, slowly, generalize, discipline, restraint, imposition, tend, proved, wilson, stimulus, more., discover, stick, definition, dl, inclusion, one-time, copper, vice-president, consortium, hopeful, cp, historically, streamline, jeffrey, allen, preparation, costly, air, fare, lender, classify, nat'l, spirit, ccc, importer, usa, exclusive, duty-free, locate, wine, compliance, wojnilower, boston, albert, subvert, occasion, harder, justifiably, seriously, participant, hiccup, dress, end-of-fiscal-year, above-average, pick-up, unsustainable, ray, pratt, version, stewart, southeast, fertilizer, exposure, somewhat, ratio, leaseback, distance, strongly, card, nova, scotia, 12-month, survival, bancorporation, implementation, existence, dependent, trim, buoy, magnitude, stanley, volcker, downward, remedy, chase, industrialize, testimony, answer, persistent, worry, ceiling, extent, floor, breakdown, inability, chesebrough, chesebrough-pond, unilever, favorable, said., envision, slight, santo, onshore, oilfield, cast, end-1987, rio, cra, claus, koehler, speculative, separately, hiss, background, dash, let, sentiment, accommodative, surrey, regardless, diametrically, activity., monetarist, concretely, counterpoint, overly, reuter^m, journal, debit, complaint, withdrawal, unless, liquified, rationalisation, swiss, shanghai, ta, hua, modernise, domestically, catch, riyal, spot-next, spill, 6-3/16, 5-15/16, 7/8, edge, 6-3/4, suisse, confirmation, exempt, read, page, grace, disburse, utilisation, household, seventh, socialist, campaign, sunday, privatisation, director-general, la, sweeping, paribas, et, lombard, eliminate, algeria, erasable, programmable, memory, unfairly, proof, justified, subscription, basically, urgent, postwar, criticism, meeting., notable, annuity, hague, goodwill, g-7, appreciate, suppose, holiday, warmer, guidance, entry, presence, gelco, kingdom, pool, realise, district, bargaining, membership, suntrust, sti, argentine, cow, default, r., c., kansa, waive, boveri, bbc, bbcz.z, carlo, e.f, hutton, banco, 7-3/4, inject, category, mixed, slowdown, semi-annual, disappointment, cope, rout, sustained, wealthy, poorest, occasion., graphic, fhlbb, two-third, depository, adequate, consent, plc., restricted, esso, educational, sallie, mae, student, 5-14, mac, frankfurt, upper, unnamed, interior, omit, exchangeable, resign, s., t., leasing, demonstrate, growth., standstill, diamond, salt, incorporate, states., presentation, reference, briefly, canron, quebec, rotterdam, undercut, upturn, strictly, already., bethlehem, inland, efficient, turnaround, mid, 1/8, neutral, mix, diagnostic, pharmaceutical, hot, unlike, brasil, cacex, orderly, sustainable, policy-making, simply, compensatory, royal, roy, jersey, joseph, undervalue, months., rome, contact, retirement, notion, semiannual, so., mid-1990, game, cruz, accordance, instruction, obvious, drexel, lambert, burnham, accomplishment, comparable, kenneth, puerto, rico, liberty, citicorp, entirely, t-bill, bidder, consensus, informally, resolution, ctyn, rd, dutch/shell, fb, quantity, jeopardize, belong, involvement, counter-productive, brighten, greenshield, toronto, slip, curtail, ussr, juice, freeze, degree, amend, trigger, shp, beverage, shamrock, 20-year, evaluation, 1-1/2, adam, detailed, argentina, foremost, bankruptcy, trap, provincial, newhall, dependency, inevitable, disincentive, synthetic, foodstuff, receipt, conjunction, facilitate, dd, tract, conoco, hydrocarbon, patient, write-off, funding, direction, mcdonnell, strict, inch, extended, miss, minus, correction, tucker, address, mandate, worst, uplift, overcome, precision, jack, identity, chicken, favor, calling, medicine, fort, determination, agreed, hefty, wish, technique, tackle, tactic, unreasonable, stripper, arctic, wildlife, refuge, judge, illegally, jay, irve, dismiss, ottawa, edmonton, lukman, couple, annum, rilwanu, industrialise, swing, stimulation, inappropriate, helmut, kohl, severely, stretch, revision, die, condemn, speed, century, adherence, hint, modify, recoverable, one-fifth, endanger, caribou, lee, superior, ncnb, maryland, rejection, maximize, turmoil, false, misleading, richfield, arc, mold, shultz, selective, confront, impossible, reasonably, bold, champion, breach, punta, del, este, auspex, jamaican, resort, chair, jamaica, senegal, papua, guinea, coat, bcf, mideast, vital, military, mountain, camp, actual, logic, aspen, individual, dan, timing, undetermined, mercantile, hardware, metric, feel, interprovincial, shall, hr, norwegian, brass, burst, thousand, metre, shell, vessel, friendly, tanker, fly, task, planned, municipal, language, telegraph, andrew, inroad, continuation, mfn, one-year, hungary, fate, missile, republican, imply, enhancement, g., expanded, massachusett, modern, optimism, analysis, sam, veto, destine, legislator, enactment, persian, supporter, critic, bombing, leftist, army, ecopetrol, estimated, pump, columbian, recipient, hide, promising, constraint, liberalize, lifting, protected, surround, venezuelan, manuel, azpurua, one-half, norway, senator, appropriation, iran-iraq, contrary, furthermore, choice, mitigate, jawboning, barney, harris, upham, upside, westpac, indicator, anza., crane, shot, austerity, disaster, anxious, divert, usually, disagreement, budgetary, useful, colleague, unusually, promise, rice, 1990s, viability, intensify, overcapacity, variable, rupture, guillermo, dehesa, spell, drastic, plenty, gill, acid, unilateral, denman, multilaterally, dangerous, path, impede, six-month, pittsburgh, rush, shield, looming, scope, obstacle, abolition, coalition, swell, copy, lay-off, struggle, generate, autumn, cftc, abandon, unresolved, bro, comprehensive, satisfactorily, cepe, plain, petrocanada, fran, permission, ample, merely, arizona, code, future., high-tech, crossroad, destocke, boee, hydraulic, medium-term, mission, cd, york-based, forma, restart, south-east, two-day, tourist, regain, fadhil, al-chalabi, sacrifice, credibility, caraca, painful, conservation, easily, reflection, rebuild, buoyant, unveil, align, insure, self-sufficiency, embassy, intense, risky, audience, dismantling, dismantle, ireland, refusal, narrowing, inevitably, export-led, hongkong, overdraft, s.korea, won, condensate, marginal, excise, 5.5p, gauge, taxpayer, voluntary, telex, guide, pertamina, contractual, understanding, commencement, crush, reschedule, hardship, desire, upwardly, norman, der, alter, severance, frank, westminster, nwbl.l, rpt, intact, unwilling, fence, mildly, pessimistic, negotiable, presidency, unity, package., oil-rich, gasoline-rich, first-half, mirror, minimal, one-quarter, barter, reluctance, kleinwort, cts/bbl, novemb, calm, nervous, subsidize, posting, phillip, wti, spin-off, disappointing, bernstein, multiple, shc, edmonton/swann, bbl, imo.a, tultex, ttx, margarine, hugely, southland, dlrs/bbl, murphy, permian, slc, citgo, age, wildcat, petro-canada, antwerp, firmly, justify, discriminatory, unp, champlin, nippon, strip, deductible, eventual, two-year, initiate, powdered, hemisphere, dupont, tran, criticise, uruguay, procurement, oversee, api, temper, benson, availability, lubricant, unprofitable, efficiency, inspire, indefinite, integral, embark, servant, toll, wrong, effectiveness, film, contractor, lucrative, wyome, airport, fruit, worse, sorely, ryan, la., moore, closure, accumulate, lag, steve, prevail, dwindle, english, player, rich, dozen, majeure, sulphuric, stoppage, hale, railroad, thought, husky, substance, hyo.to, wedge, u.s.-canada, u.s.-canadian, brian, mulroney, oecd, halve, marked, finland, fsi, nfsi, reeacquisition, precambrian, uneconomic, grease, monkey, gmhc, nov, acpt, mnst, respective, toog, option-granting, asc, kasler, kasl, un.a, angus, cbm.n, niall, fitzgerald, divergence, 50.17p, stauffer, lipton, surf, detergent, peke, discard, prejudice, generalise, gsp, print, counsellor, chen, shibiao, behaviour, out-of-date, pickup, insititute, accountant, intek, idcc, population, pharmacia, phab, st, once-off, know-how, adr, parity, lkb-produkter, intermedics-intraocular, dbkg.f, bankamerica, clash, minute, fre, trademark, agent, post-tax, op, dane, elimination, bank/canada, uncertain, guinean, lifetime, healthcare, herman, croo, re-orient, europe., introducte, problems., products., stupid, upset, mosty, suprlus, diverted, clout, fom, west., atmosphere, dramatize, headline, rostenkowski, temptation, club, d-ill., screen, plea, fairness, 1/2, fellow, stephen, career, ecgd, aged, convern, lump, at., trough, qustion, newsletter, sesame, artificially, catastrophe, evident, reluctant, luncheon, suicide, airbus, industrie, unexpected, midafternoon, unique, reshape, ccr, harold, annualize, carryover, ultimately, standpoint, certainty, timely, 30-35, saudis, jawbone, longshot, cheating, appearance, mckinley, oversell, rally., yeterray, indidate, denial, postition, subroto, canot, marion, indepedent, slack, 4-1/2, panic, sooner, jam, raymond, pancanadian, whitehall, distillate, residual, francisco-based, sponsor, patrick, leahy, d-vt., sen., melcher, d-mont., donation, pl480, concessional, bangladesh, tunisia, morocco, injury, apple, yr-ago, wellemeyer, ope, interfuel, resolved., exemption, mcdonald, non-voting, problem., pontiac, 24-month, 36-month, 48-mopnth, 60-month, equip, interst, ann, camco, specifically, ought, infe, apolonio, ruiz, ligero, four-year, fad, context, abroad., swift, korean/taiwan, fairchild, lastly, market., treat, bind, fourteen, 13-week, brown-forman, bfdb, refund, transition, soften, easing, compatible, hugo, paeman, multilateral, etienne, davignon, luyten, energy/california, curti, birr, bolster, munger, track, dreg, ed, malmgreen, marker, blend, stripp, extraction, cloud, kern, crawl, mitchell, guerard, srd, deep, gathering, simple, sudden, idaho, unfortunate, gat, woong-bae, rha, sources., parts., federally, u.s.-, briefing, low-price, 12-nation, preferential, minoru, endo, unfounded, herring, prohibit, unprocessed, salmon, herre, stiff, 3-1/2, algerian, counterpart, belkacem, nabi, ap, permament, alick, buchanan-smith, diving, buchanan, snith, brent-grade, style, britian, oil-consuming, oil-producing, hal, february., nugent, oilpatch, lawmaker, revitalize, tertiary, coherent, way., deplore, shy, fertiliser, syndicate, six-year, seven-year, mhc, dlr/bbl, wrap, cap, drag, u.s.protectionism, eec, retaliate., ec-u.s., u.s.-ec, brink, reesentment, unilaterally, deadlines., commuity, better., bypass, agreeeement, arbiter, interpret, wonder, 49-1/8, accomplish, load, financier, route, yeutter, carlos, drawdown, preparatory, petrleum, strive, faith, short-covering, quiet, dead, unbalanced, limitation, balance., honour, diversity, ht, bko, ike, kerridge, belgolux, belgo-luxembourg, bleu, half-point, broad-based, 12-member, kaputin, privileged, beneficiary, kina, exactly, undersecretary, wallis, domestic-led, supercomputer, kansai, jeopardy, fundamentally, labour, heighten, chartered, polish, poland, precise, hypothetical, blur, illusory, excuse, under-, achieving, favoured, suppression, martial, devise, offshoot, envoy, extrapolate, freely, theoretical, evaluation., illusion, misunderstanding, phenomenon, nebulous, curbing, janusz, kaczurba, pap, uncommonly, dlrs., moral, torpedoing, ice, pole, immorally, solidarity., wladyslaw, baka, partners., debt., obstruct, superpower, cooperate, anatolian, egyptian, overproduction, arabian, overprice, country-by-country, gabon, decree, gazette, interest., mike, ocean, warwick, leed, dresdner, exit, amstutz, underestimate, detect., proceeding, administer, newsprint, greatly, carroll, proportionately, georgia, rip, archer, taper, gnt, independently, prestige, financially, wilderness, premdor, ho, peninsula, staley, coke, cpl, desjardin, visa, confederation, caisses, populaires, d'economie, desjardins, unpaid, billing, designate, petroleo, pdvsa, doe, herrington, better, tap, neighbour, dollar/yen, urging, diet, populous, ratification, unofficial, safe, forbid, crumble, cautiously, absorb, craa., a/, dependence, li, petition, prospective, ferdinand, marco, now., relieve, pall, 8-1/2, mediator, picken, accrue, importance, firming, quake, pile, paralyse, society, perceive, tarrif, equatorial, equa, casey, dia, unpleasant, demonstration, occurrence, felipe, gonzalez, maximium, companion, anticipation, nice, revalue, gesture, backing, hypothesis, jurisdiction, understandably, dennis, eradicate, inhibit, legitimate, opecna, secretariat, price., biannual, noticeably, month., lifter, entail, extraordinrary, matrix, seven-state, assertion, entrant, fortune, constant, cook, carlucci, mthly, sc, pre-budget, penal, 11-3/4, drew, three-quarters, rates., 1.5798/808, 1.5650/60, 2.8900/60, 2.8720/50, re-rating, fellner, bout, bet, upheaval, harmful, pause, guess, egpc, ras, bahar, stockbroker, prudential, ward, buildup, inflate, striking, almir, fault, harbour, kit, tandem, yellow, 3/8, hurdle, 3-3/4, underproduce, correct., propuce, 75-100, refiner-buyer, free-for-all, seven-nation, twice-postponed, grades., fibre, mississippi, pearl, encounter, u.s.-european, harmony, bailey, attendance, tension, jean-claude, paye, franz-josef, feiter, heed, differentiate, disparity, profit-taking, suport, bouy, depression, rescheduling, simmon, phil, icg, compose, noir, yugoslavian, egon, padovan, wmx, safeguard, purusant, internationally, douglas, anybody, marketplace, ankara, yalim, eralp, territorial, berne, iea, cutback, norbec, leeway, 0.1-0.2, 0.2-0.3, yanbu, ngl, centrally, non-conventional, tar, processie, curtailment, refinancing, isthmus, maya, axp, incline, pbt, welfare, stone, sto, ^m, allowable, g-6, culminate, start., steward, ominous, society., illinois, evan, indefinitely, pumping, corporacion, estatal, petrolera, ecuatoriana, tremor, salado, aguarico, reventador, volcano, epicentre, seismologist, 12-point, mercalli, ecaudor, property-casualty, bush, imediately, temperton, 72-73, cox, ebc, amro, one-week, hoare, govett, run-up, glory, ian, harwood, mercury, confound, excitement, 3/4, pertain, three-months, sovereign, writer, kilometer, comparative, shake, greet, jacobson, destocking, ultimate, indefintiely, short-haul, scarce, readily, skeptic, hanke, friedburg, quotas., government-to-government, resold, anniversary, repeal, out-of-pocket, lumber, random, eve, assert, persaude, collision, pete, 7-1/8, stumble, beaufort, hinder, vacuum, algier, deploy, stablise, prices., petro-chemical, fishery, coradian, cdin, nicaragua, paraguay, intended, saskatchewan, flow-through, notification, u.n, m., glut, override, interpretation, re-export, apartheid, rationale, 24-hour, seven-day, one-month, two-month, three-, nine-months, 3-1/4, savings, fade, medium-sized, deck, consultative, iraq-turkey, landslide, adana, hurriyet, kirkuk, yumurtalik, alert, lago, agrio, balao, hook, eighth, hector, hurtado, unwillingness, sideways, 100-1/4, 5-3/4, 99-3/4, increased., fixed-rate, kassenobligation, fob, submission, taka, proper, discounted, nioc, colder, disguised, vlcc, individually, obligate, impair, whichever, advantageous, sell-out, woe, showdown, bipartisan, sept., grip, parking, contel, tumaco, desirable, lasting, japan., world-wide, anti-inflation, breakthrough, breathing, export-import, p., roxy, shape, chl, jwc, generous, loss-making, froze, abdelaziz, adequately, 2-3/4, roger, planner, throughput, have., roberto, fendt, govt, exact, deem, 6-1/2, untied, seminar, oil-dependent, expatriate, spate, doha, staunch, penalise, terribly, wealth, vat, one-for-two, fruitful, denomination, bolivar, mid-june, stopover, 9-1/2, 5-1/2, overshoot, sheikh, bin, sultan, tendency, irish, eagle, willy, clercq, mee, cyprus-based, authoritative, oil., entitlement, pan, ditch, mitsuru, uchida, waseda, memorandum, expiry, endorse, testing, outer, inherent, practical, range., scottish, flatten, transact, four-day, exports., reading, seperate, north-central, guerrilla, three-day, economical, joe, emergence, truly, boiler, stream, yukio, interchange, fledgling, depletion, violent, 50-minute, dramatic, dresser, di, ali, schlesinger, liberalise, 1980s, exploit, al-rai, al-aam, exert, genuine, nervousness, theirs, 13-member, fahd, doldrum, justification, wil, aramco, ex-partner, rearrange, piw, prince, porex, medco, containment, added., maxwell, iit, norske, stat, oljeselskap, stat.ol, statoil, haltenbanken, colony, voluntarily, peerless, softwood, countervail, bomb, quinn, dallas-based, comeback, ineffective, annoy, deserve, fulfill, 6-7/8, saddle, 1973-74, embargo, parish, displace, insistence, offical, facto, retroactive, market-related, tranche, 1987-92, oda, 28-day, 6.5p, sufficiently, ebullient, reputation, bloated, 1960s, finger, markka, 27.5p, peasant, peking, accusation, summon, suleiman, al-sabah, hisham, nazer, riyadh, architect, distortion, deeply, basix, bas, cultural, unjustified, deflect, realism, petronas, spoil, prosperity, advice, deflationary, fan, countenance, stability., abdul, rachman, ramly, 9-1/4, plough, 7-1/4, schlumberger, slb, rid, mmc, disturb, subdue, blip, encouraging, opec-led, srv, third-quarter, lasmo, billlion, trillium, transamerica, drummond, oilman, upsurge, speedy, armor, bilion, unnecessary, lpg, successor, minimize, perez, kharg, toy, coeur, d'alene, deduction, praise, issuer, bk, height, trace, pat, carney, distort, canadian-u.s., flaw, lunch, shut-in, potash, vow, downstream, corpus, christi, depositor, 20s, abundance, eager, foolish, foolishness., doing., testified, rack, amazing, japanese-made, 14th, traveler, nov., 30-year, corresponding, ivaco, 1-1/4, year., indebtedness, smooth, non-manufacturing, vice-foreign, zhou, nan, six-monthly, rotating, topple, fatal, unpopular, nakasone., flare, faction, today., ammunition, rei, shiratori, smoulder, nail, coffin, grave, hutchison, whampoa, discriminate, impatience, mede, akzo, akzo.as, signing, predatory, hit.t, kilobit, dram, oki, amortisation, compound, delicate, pain, cheung, sq, aims., ammonia, electromagnetic, categorically, rhetoric, terra, unabated, beyond., inflation., semiconducter, saver, kentucky, cntr, pearson, trustco, ceremony, welcoming, government-owned, verge, avery, escape, mlc, elk, sympathetic, discharge, elgin, captive, beneath, getty, nymex, shrug, underpin, hartford, quarter-point, mcculley, 26/27, aubrey, lanston, fomc, liro, pass., elizabeth, reiner, line., foreseeable, non-strategic, policymaker, industrialisation, viewpoint, debt-equity, six-member, g.c, goh, 5-1/16, 4-13/16, re-invest, tata, setter, bombay, enthusiastic, macsharry, punt, kearney, peop, fortnightly, engagement, 30-69, 30-124, 70-88, 125-150, 89-123, 151-173, 124-150, 174-182, 151-349, 183-349, 350-360, mtrc, von, cil, prescribed, 62-3/4, 83-1/8, 54-7/8, opertation, fos, capcity, mlotok, bunch, shaken, rough, fluctuating, post-budget, prt, henceforth, oil-related, prt-exempt, reallocation, tidy, incorrectly, ammendment, gareth, lewi, davy, mackenzie, edinburgh, osprey, arbroath, reward, bootle, safety-first, 9-11/16, simmond, electorate, tomrorow, one-point, analyse, small-print, 10-1/2, gel, pln, house-ordered, imports., pdvsa-champlin, eventuality, maturation, adapingthe, hydro-treating, difficultiesand, 80-85, ahme, wainco, wol, grandmarais, prspect, jefferson, frion, tweedel, perforation, untested, fhl, oapec, al-wattari, /oapec/opec, optimal, unviable, high-cost, full-fledged, euro-arab, allotment, anita, sar, venezuela-ecuador, fernando, alvite, remit, quito, creation, non-north, community/oapec/opec, geography, antonio, domenici, flawed, firstcorp, fcr, leather, reinveste, top-level, peaceful, al-khalifa, 13-nation, al-anba, less., opt, baht, mismatch, 10-3/8, lowering, mid-1987, dlrs/barrel, tapi, tradeable, aomi, mayor, roel, dunnen, twinned-port, drsd.f, longer-dated, routinely, hiring, platinum, rebel, handy, harman, pson.l, spr, oesterreichische, mood, saint, area., customarily, recording, well., gatt-approved, counter-reaction, threshhold, textile-state, review., bus, 20-month, neyra, earnng, coinage, nation-wide, profile, distinction, saf, essf.pa, sur, 1985-86, emhart, emh, chiefly, wrought, cenergy, crg, canterra, scotian, east-southeast, halifax, meter, lacey, mcentee, mcginley, karnosky, materialize, widerange, weave, florio, counterfeit, copyright, subversion, customs-cleared, yen/dollar, homeland, shiv, shanker, herbal, usher, balancing, newly-established, ke, stamp, new-found, underline, watchword, recklessness, dominance, explicitly, abdulaziz, al-salim, breakneck, tale, legendary, unpunished, outsized, non-tariff, octoer, high-yield, insured, surcharge, saudia, state-oil, 40-mln, micron, conviction, clear-cut, dampened, retracement, refco, connery, afterwhich, leiner, kahan, sizable, recur, automatically, pechiney, protocol, gosagroprom, vsevolod, murakhovsky, visnew, ahmed, zaki, yamani, scheduled., 13-year, over-production, measures., assemble, thrash, tihamah, abal-khail, oil-based, long-delayed, based., shipping-to-hotel, redec, fighter, taipei, lloy.l, resemble, instance, anonymous, questionnaire, carlton, ongpin, donor, failed, bank-led, libyan, crude., tripoli, inequality, covert, discretion, leon, febre, cordero, dignity, maintain., patricio, quevedo, staple, pariba, pre-finance, plight, 18-month, oil-financing, orginal, re-establishment, mid-east, renegotiate, cairo, year-old, youssri, mustapha, hosni, mubarak, salah, bassiouni, soviet-built, soviet-supplied, then-president, anwar, sadat, promised, intellectual, revolution, steering, unrealized, bonanza, simplify, legislate, mid-1984, centrally-planned, slacken, toughen, allegiance, frenzel, poeple, agreements., reluctantly, afl-cio, kirkland, president., jenkin, proponent, beset, decision-making, sovereignty, vulnerability, hut, cambridge, there., emerging., passionate, under-developed, under-employed, newfoundlander, albertan, prosperity., detial, published, trariff, ameritrust, franklin, lessening, downgrade, toned-down, r-mi., d-il., d-mo., d-ga., augusta, paolo, torino, loophole, subsidized, derivitive, eight-billion-dlr, mcdermott, mdr, sensible, subisdy, one., friends., jople, expense., disturbed, relations., aggravation, nomination, wellington, inter-agency, oil-dependency, harrington, nickle, overestimate, tantamount, syndication, osamu, oceanic, minsiter, honda, inexpensive, ingenuity, saito, lid, owen, atico, atfc, trico, tro, scurry-rainbow, strained, engere, pasta, strident, ill-advised, provocation, brinkmanship, self-centred, accommodation, tied-aid, effot, tied, intensive, 24-nation, hidden, lessor, psbr, avoidance, dual, systematic, syst, beacon, caljet, cryssen, edgington, orkin, lunday-thagard, ring-free, mock, petro-diamond, pressing, achieve., 5-6, question-and-answer, rash, quasijudicial, mechanisim, neighbor, mccain, be., mcclure, invoice, chip-maker, discouragement, 169-billion-dlr, 59-billion-dlr, matsui, novel, wanted, collaborate, bank-funded, java, wise, unsure, arifin, siregar, depreciate, inefficient, sidetrack, sepember, southerner, instil, tragedy., popularise, readjustment, negotiations., pirate, prauge, scotland, 700-acre, taupo, verging, super-computer, dawkin, bogge, protectionist., contemplative, ago., matter., baseless, saddam, hussein, over-reliance, apea, benbow, derive, oil-generated, 1992/93, undiscovered, 1980-84, non-middle, mcivor, super-giant, home-country, non-discriminatory, meare, /exxon, uncouple, uncoupling, taboo, pietsch, re-emerging, curve, accomodate, josef, koerner, ifo-institut, wan, ncso, tsomu, hata, neglect, rollback, practice., cracker, undamaged, ingolstadt, lavera, nowruz, rubble., deprive, ruler, ardeshir, month-long, lull, dresdn, bradstreet, capitalisation, donut, stifled, samaila, mamman, micro-chip, utmost, masaji, yamamoto, renege, diminishing., nipn.t, schultz, dram.o, rock-bottom, rebuttal, strange, publicize, tonka, tka, mcd, seismic, sfb, zero-point, qassem, taqi, agcny, ina, appointing, isam, abdul-rahim, al-chalaby, subhi, yassin, khadeir, abdel-jabbar, abdel-rahim, al-asadi, baath, hamza, al-zubeidi, al-zubedei, reshuffle, realisation, freedman, fumble, unionist, krapel, persuasive, jofree, exisite, adkerson, shuffle, shakeup, inoc, appointed, incompatible, cede, noncash, rotary, scale-back, overwhelm, substitution, entirely., ludicrous, immense, non-productive, rational, 'old, rrt, profit-based, deductibility, irritant, ridden, redouble, cut-rate, revitalise, barring, bitterly, negate, secondly, thirdly, collectively, davo, canada/u., concepcion, shine, quantitative, bae, 3.60/70, 3.75/85, openness, round., nt, timetable, ex-im, morton, draugen, rd.a, northermost, 240-270, 300-meter, single-leg, gravity-base, subsea, reservoir, buoy-loading, 3p, ch, nine-member, sudan, sudanese, add-need, crunch, czechoslovakia, soviet-bloc, democratic-controlled, bonker, highly-sensitive, optima, credit-card, pei-yuan, chia, mastercard, two-to-one, braddock, ones., melbourne, heavy-handed, japan/u., provident, trout, a14-8-89-3, w5m, northstar, tricentrol, vicinity, peanut, spice, tomato, puree, oil-tax, mid-continent, taxpayer., nic, scream, cerier, impediment, competiveness, doorstep, well-placed, fashionable, japan-bashing, nic-bashing, chandross, incipient, woong, chien-shien, big-ticket, balloon, wendt, overrall, koss, exorte, two-pronged, free-trade, teeth, namibia, rundown, injurious, widening, delighted, ouput, year-to-date, interest-straining, expansionist, dogmatically, baird, non-prt, annex, participator, prt-paying, kittiwake, corner, misguided, product-for-product, wrench, boomerang, andean, caf, galo, montano, parra, gil., bentsen, televise, abbey, almy, jointly-owned, deliberately, rhone-poulenc, drawback, laiohe, 140-well, 1979-81, anytime, comecon, soviet-led, non-recognition, maslen, no., zdzislaw, kuroski, questions., presented., ec-comecon, first-ever, goc, amauligak, mud, shoreline, barite, naturally, akzo-dupont, breaking, dutch-made, disputed, aramid, mnco, 20-member, thinh, channels., inducement, re-negotiating, dillard, american-caught, pollock, standby, infant, assset, comerica, s-k-i, probability, mortgage-backed, 7-3/8, amidst, dalian, txc, galaxy, fnb, frame, arbitrary, them., globalization, perspective, r.c, indexation, abdul-aziz, mana, al-oteiba, alexandria, 8-1/4, keller, government., gravity, loan-to-price, one-eighth, adjustable-rate, memotec, quarters., cnn, careful., anchorage, rospatch, cano, pessimism, naba., calender, 85-15, chase-amp, yannis, whittaker, wkr, whittak, liu, 11-1-1, fa, hwhh.hk, wonnacott, knotty, economics, univerity, coutervailing, natw, bcs.l, mdbl.l, staunchly, 8-3/4, 2004/08, 134-12/32, inexorable, delineation, newfoundland, economicly, terra-nova, hibernia, graven, flank, parex, foulke, strenuous, riase, rotberg, rah, woon, increases., pure, 5.63-65, 5.59-61, homeless, gigantic, napo, hardest-hit, pipelline, ande, brancho, corpse, bracho, lara, landslides., cayambe, editor, adjustable, dibona, unanimity, 3-mo, 6-mo, bond-equivalent, stopout, non-competitive, santana, upco, boone, heady, autobiography, sergey, frolov, amtorg, u.s.-ussr, post-detente, teach, shenzhen, strong-armed, recalcitrant, wolffe, marketeer, sneak, non-american, matt, aizawa, outfox, donovan, mmi, k.k, opens., communism, foreign-made, urgency., megabit, thorny, sia, are., stimulative, zaid, al-nahayan, nazir, viste, palestinian, 6-1/2-year-old, battlefield, 2.25p, creditanstalt-bankverein, phrase, jumardi, jukardi, hardjoko, seputro, megabank, troublesome, flagging, inflation-free, suggested., misgiving, will., libor, unacceptably, seaga, bno.to, co-head, interest-rate, ill-will, teran, tx.n, repaid, 180-day, caracas-based, rafael, velasco, point/oil, sandi, haber, sweeney, halliburton, vishnu, diversife, businesess, favorite, horde, gaspar, choosing, swarup, cabv.vi, hanne, androsch, re-confirm, disassociate, differentials., long-held, responsibly, tragic, tableland, 4-36-2-10w2, 17/64, 20/64, spacing, srb, influx, m-4, underperforme, 32nd, one-billion, near-instant, downpayment, bellwether, 10-9-7/8, significance., materialises., disquiet, politician, westminister, jordan-petrocanada, amman, nra, pciac, al-khatib, towe, 3-5, retaliation., concessions., hesitant, reasons., speaking, piracy, puchas, eia, despatch, overwhelming, democratic-sponsored, moderated, democratic-led, imec, france., advantage., jean-baptiste, doumeng, interagra, lent, propensity, regrettably, aturo, maracaibo, guayaquil, cnooc, lufeng, 13-1-1, stationery, pazzionotto, recurrent, longstanding, peterson, peckford, formula., transpire., dissociate, ability., lucky., semi, s.africa, gradin, black-ruled, front-line, anglo-dutch, p.j, hoenman, hair, decision., musk-oxen, inadquate, dispite, solv-ex, solv, up-front, mcmurray, athabasca, powerine, selm-societa, energia, priolo, 15th, 28th, 140-150, negative-netback, garrone, quirico, isab/garrone, mellili, 20-25th, siracusa, distillation, berre, l'etang, raffinage, cfr, visbreaker, bbl/day, outlook-ecopetrol, franciso, chona, samudio, arauca, narvaez, limon, hockin, clearcut, frightening, 'protectionism, balanced., assam, pre-equity, faithfully, unsellable, knock-down, legally, chronic, petrobra, suez-mediterranean, sedi, kerir, wilfred, wae, bmd, dww, soviet-w, east-west, stein, apholte, canadaina, sponsorship, receivables, calmness, reigning, minsitry, colon, bywater, lightweights., forego, antidumping, industory, closed-minister, quota., flashpoint, early., provincially, axworthy, harrassment, bumble, whatever., ming-yi, zhao, ziyang, samsung, mob.n, cmte, committess, tic, idly, studied., sector-specific, kid, non-canadian, morse, eali, foreign-based, liabilite, cmca, rediscount, 26-week, inseperable, re-negotiate, punte, ludolf, georg, wartenberg, cooling, watchfulness, moneyline, d-tex, hundre, weston, bkb, month-end, avy, 6-5/8, debt-burdened, prior-year, mariano, washington-based, mcc, al-qaba, rosemary, mcfadden, stave, u.s.-china, figure., alone., cobanco, cbco, bfd, larsen, blender, e.b.i, esquire, ee, obod, clri, cinram, o'malley, hnh, limp, hail, saviour, pace., 45-50, 30-40, fgrp, phi, all-star, novebmer, bdm, mrdn, coleco, clo, copany, clc, cabbage, handel, dahlberg, dahl, idbx, armr, readdress, yergin, cera, mizrahi, bpd., sprigg, bijan, moussavar-rahmani, torchmark, tmk, debenure, techamerica, tch, ka-shing, gsw, lana, mccall, mayf, alatenn, atng, munsingwear, mun, gti, famous, fam, authorizerd, shrortly, likeli, cct, clever, april., moves., mid-1960, 3.7495/98, 3.7500/03, khalifa, al-thani, one-twelfth, rationalise, shoulder, responsibilite, circumstance., over-producing, tanurah, ju'aymah, two-fold, jubail, ntt, ckgh.hk, 11-21, wako, regulation-free, ingvar, calrsson, carlsson, irritate, sub-cabinet, gamut, stop-over, end-week, frustrated., free-wheeling, tight-fisted, culprit, peeve, adverserial, well-thought-out, m.p, organiaation, chao-ming, export-earner, hkeh.hk, cavendish, non-electricity, reute, sdc, cronus, buildings., tue, porx, multi-step, restructurine, hsa, whittar, dofascoxinc, bertram-trojan, investcorp, benne, marrel, juster, daewoo, wimi, strob, strb, brenco, bren, mf, skii, kapok, kpk, humanistic, 15-18, k-tron, ktii, pdo, frm, duro-test, dur, internchange, isbj, 8-1/3, nesp, phcc, mcry, benguet, i.m., imsi, muo, jcb, payble, harley-davidson, hdi, cvgi, thunander, thdr, minneosta, dpcz, sigi, ziering, annal, ziere, immunological, dunkin, dunk, cccr, off-hour, debut, mckiernan, capozza, efp, trading., up-right, upri, self-confidence, post-war, crossborder, population., imposing, albertson, intec, intk, hydron, hyd, syntech, interenational, syne, cour, ltlp, wht, reit, raut, realmerica, raco, muncipal, mfm, pittway, pry, petrolite, plit, kapsis, kaya, erdem, seabe, inactive, telecredit, tcrd, lasr, life-health, pofit, shr/avg, kenca, bkne, whipple, comalco, cmac., goldendale, chip-export, usefulness, grey-market, fison, fisn.l, 24.3p, 3.95p, 3.34p, horticulture, tito, ayal, ayala, nueva, teapa, salina, lazaro, stcl.l, 15.9p, 4.5p, impute, bougainville, buva., iron-ore, argyle, unrealised, trans-shippe, communism., anti-communist, centralled, lever, ashton-tate, 25p, 575p, transponder, equitorial, inabiliuty, agreed-upon, oblitation, cross-default, earth, conteol, under-secretary, eishiro, sub-cabinet-level, antagonise, condemnation, weill, 30-123, administration., iif, horst, schulmann, orgnaization, levelling, finance., vak, zentralsparkasse, kommerzialbank, wien, hellmuth, klauh, genossenschaftliche, zentralbank, pale, oesterreichischen, sparkassen, girv.vi, haumer, erste, spar-casse-bank, mntl, bank-wilmington, no-fee, boatman, venezula, 1987-89, minneaplois, competitive., cardholder, royal/bank, tcf, ionterest, 5-7/8, upward., bank-houston, bacp, ncf, fannie, fnm, crowd, squaring, 30-273, 30-89, 274-294, 90-100, 295-344, 101-181, 345-360, 182-195, 196-274, 275-295, 296-360, 15-78, 15-81, 79-85, 82-88, 89-360, 89-174, 175-180, 181-360\n"
     ]
    }
   ],
   "source": [
    "print(\", \".join(vocabulary))"
   ]
  },
  {
   "cell_type": "markdown",
   "metadata": {},
   "source": [
    "You can see how many times article $i$ contains word $j$ using"
   ]
  },
  {
   "cell_type": "code",
   "execution_count": 601,
   "metadata": {},
   "outputs": [
    {
     "name": "stdout",
     "output_type": "stream",
     "text": [
      "4\n"
     ]
    }
   ],
   "source": [
    "i, j = 40, 2\n",
    "print(data[i,j])"
   ]
  },
  {
   "cell_type": "markdown",
   "metadata": {},
   "source": [
    "You can see which class the $i$th article belongs to using"
   ]
  },
  {
   "cell_type": "code",
   "execution_count": 602,
   "metadata": {},
   "outputs": [
    {
     "name": "stdout",
     "output_type": "stream",
     "text": [
      "0\n"
     ]
    }
   ],
   "source": [
    "print(labels[i])"
   ]
  },
  {
   "cell_type": "markdown",
   "metadata": {},
   "source": [
    "For instance, by running"
   ]
  },
  {
   "cell_type": "code",
   "execution_count": 603,
   "metadata": {},
   "outputs": [
    {
     "name": "stdout",
     "output_type": "stream",
     "text": [
      "Occurrences: 2\n",
      "Class: earn\n",
      "Word: shareholder\n"
     ]
    }
   ],
   "source": [
    "print(\"Occurrences:\", data[0,10])\n",
    "print(\"Class:\", class_names[labels[0]])\n",
    "print(\"Word:\", vocabulary[10])"
   ]
  },
  {
   "cell_type": "markdown",
   "metadata": {},
   "source": [
    "you can see that the 11th word appears twice in the first document, the first document belongs to the class \"earn\", and the 11th word is \"shareholder\"."
   ]
  },
  {
   "cell_type": "markdown",
   "metadata": {},
   "source": [
    "The following function randomly selects a subset of the data."
   ]
  },
  {
   "cell_type": "code",
   "execution_count": 604,
   "metadata": {},
   "outputs": [],
   "source": [
    "def sample_indices(labels, *num_per_class):\n",
    "    \"\"\"\n",
    "    Returns randomly selected indices. It will return the specified number of indices for each class.\n",
    "    \"\"\"\n",
    "    indices = []\n",
    "    for cls, num in enumerate(num_per_class):\n",
    "        cls_indices = np.where(labels == cls)[0]\n",
    "        indices.extend(np.random.choice(cls_indices, size=num, replace=False))\n",
    "    return np.array(indices)"
   ]
  },
  {
   "cell_type": "markdown",
   "metadata": {},
   "source": [
    "For instance, to get one sample from the first class, two from the second, three from the third, and four from the fourth, you can run:"
   ]
  },
  {
   "cell_type": "code",
   "execution_count": 605,
   "metadata": {},
   "outputs": [
    {
     "name": "stdout",
     "output_type": "stream",
     "text": [
      "Returned indices: [ 74 338 366 493 475 594 790 767 719 761]\n",
      "Samples:   (0, 2)\t1\n",
      "  (0, 5)\t1\n",
      "  (0, 11)\t1\n",
      "  (0, 13)\t1\n",
      "  (0, 21)\t1\n",
      "  (0, 99)\t1\n",
      "  (0, 157)\t1\n",
      "  (0, 255)\t1\n",
      "  (0, 341)\t2\n",
      "  (0, 346)\t1\n",
      "  (0, 349)\t1\n",
      "  (0, 365)\t2\n",
      "  (0, 410)\t1\n",
      "  (0, 411)\t1\n",
      "  (0, 622)\t2\n",
      "  (0, 688)\t1\n",
      "  (0, 1066)\t2\n",
      "  (0, 4698)\t2\n",
      "  (0, 6211)\t1\n",
      "  (1, 5)\t8\n",
      "  (1, 7)\t1\n",
      "  (1, 13)\t1\n",
      "  (1, 26)\t1\n",
      "  (1, 30)\t6\n",
      "  (1, 42)\t3\n",
      "  :\t:\n",
      "  (7, 2565)\t1\n",
      "  (7, 3165)\t1\n",
      "  (7, 6121)\t1\n",
      "  (8, 215)\t1\n",
      "  (8, 332)\t1\n",
      "  (8, 340)\t1\n",
      "  (8, 814)\t1\n",
      "  (8, 984)\t1\n",
      "  (8, 1229)\t1\n",
      "  (8, 1874)\t1\n",
      "  (8, 2565)\t1\n",
      "  (8, 2755)\t1\n",
      "  (8, 3165)\t1\n",
      "  (9, 5)\t1\n",
      "  (9, 13)\t1\n",
      "  (9, 332)\t2\n",
      "  (9, 340)\t2\n",
      "  (9, 348)\t1\n",
      "  (9, 814)\t1\n",
      "  (9, 984)\t2\n",
      "  (9, 1229)\t2\n",
      "  (9, 2565)\t1\n",
      "  (9, 3165)\t1\n",
      "  (9, 5702)\t2\n",
      "  (9, 6066)\t1\n",
      "Corresponding classes: [0 1 1 2 2 2 3 3 3 3]\n"
     ]
    }
   ],
   "source": [
    "indices = sample_indices(labels, 1, 2, 3, 4)\n",
    "print(\"Returned indices:\", indices)\n",
    "print(\"Samples:\", data[indices])\n",
    "print(\"Corresponding classes:\", labels[indices])"
   ]
  },
  {
   "cell_type": "raw",
   "metadata": {},
   "source": []
  },
  {
   "cell_type": "markdown",
   "metadata": {},
   "source": [
    "## 3. k-NN implementation\n",
    "\n",
    "Now, you will need to implement a k-NN classifier by filling the code below.\n",
    "This function should support two types of distance measures: Euclidean distance and cosine distance.\n",
    "It should take a set of training samples, a user-specified neighbour number, a distance option, and features of a set of testing samples as the input.\n",
    "It should return the predicted classes for the input set of testing samples.\n",
    "\n",
    "In order to complete this function, you are allowed to use the `sklearn.metrics.pairwise_distances` function which can handle sparse matrices, below imported as `cdist` to follow SciPy conventions (not to be confused with the `pdist` function).\n",
    "You should also research NumPy functions relating to sorting.\n",
    "\n",
    "**Your implementation must NOT make use of Python loops over individual samples or features**.\n",
    "You should use functions that operate on whole matrices, as this will be much faster than looping in Python.\n",
    "Each experiment below is expected to take no more than 2 minutes to run."
   ]
  },
  {
   "cell_type": "code",
   "execution_count": 606,
   "metadata": {},
   "outputs": [],
   "source": [
    "import scipy.stats\n",
    "from sklearn.metrics import pairwise_distances as cdist\n",
    "\n",
    "def knn_classify(test_samples, training_data, training_labels, metric=\"euclidean\", k=1):\n",
    "    \"\"\"\n",
    "    Performs k-nearest neighbour classification on the provided samples,\n",
    "    given training data and the corresponding labels.\n",
    "    \n",
    "    test_samples: An m x d matrix of m samples to classify, each with d features.\n",
    "    training_data: An n x d matrix consisting of n training samples, each with d features.\n",
    "    training_labels: A vector of size n, where training_labels[i] is the label of training_data[i].\n",
    "    metric: The metric to use for calculating distances between samples.\n",
    "    k: The number of nearest neighbours to use for classification.\n",
    "    \n",
    "    Returns: A vector of size m, where out[i] is the predicted class of test_samples[i].\n",
    "    \"\"\"\n",
    "    # Calculate an m x n distance matrix.\n",
    "    pairwise_distance = cdist(test_samples, training_data, metric)\n",
    "    \n",
    "    # Find the k nearest neighbours of each samples as an m x k matrix of indices.\n",
    "    nearest_neighbours = np.argsort(pairwise_distance, axis=1)[:,0:k]\n",
    "    \n",
    "    # Look up the classes corresponding to each index.\n",
    "    nearest_labels = training_labels[nearest_neighbours]\n",
    "    \n",
    "    # Return the most frequent class on each row.\n",
    "    # Note: Ensure that the returned vector does not contain any empty dimensions.\n",
    "    # You may find the squeeze method useful here.\n",
    "    \n",
    "    # Since the method is k-NN classification, we should find the mode.\n",
    "    return np.squeeze(scipy.stats.mode(nearest_labels, axis=1).mode)"
   ]
  },
  {
   "cell_type": "markdown",
   "metadata": {},
   "source": [
    "## 4. Experiments\n",
    "\n",
    "Use your k-NN function to perform the following experiments.\n",
    "\n",
    "### Experiment 1\n",
    "\n",
    "Randomly select 80 articles per class for training, and use the remaining articles for testing.\n",
    "Select an appropriate neighbour number.\n",
    "Train your k-NN classifier using the Euclidean distance and test it.\n",
    "\n",
    "Repeat this process 20 times (trials).\n",
    "Calculate the mean and standard deviation of the testing accuracies. Print out the mean and standard deviation."
   ]
  },
  {
   "cell_type": "code",
   "execution_count": 607,
   "metadata": {},
   "outputs": [
    {
     "name": "stdout",
     "output_type": "stream",
     "text": [
      "Using Euclidean distance:\n",
      "\n",
      "The mean using 5-NN classifier is: 0.8723958333333334\n",
      "The standard deviation using 5-NN classifier is: 0.023633440217788387\n"
     ]
    }
   ],
   "source": [
    "# Your code goes here\n",
    "def classifier(k = 1, metric=\"euclidean\"):\n",
    "    train_indices = sample_indices(labels, 80, 80, 80, 80)\n",
    "    test_indices = np.setdiff1d(np.arange(800), train_indices, assume_unique = True)\n",
    "    res = knn_classify(data[test_indices], data[train_indices], labels[train_indices], metric, k)\n",
    "    number_true = np.count_nonzero(labels[test_indices]==res)\n",
    "    accuracy = number_true/(4*120) # we divide by 4*120 = 480 since we want to test (on the testing set)\n",
    "    return accuracy\n",
    "\n",
    "\n",
    "def measure_acc(metric=\"euclidean\"):\n",
    "    accuracies = list()\n",
    "    for i in range(20):\n",
    "        acc = classifier(5, metric)\n",
    "        accuracies.append(acc)\n",
    "    mean = np.mean(accuracies)\n",
    "    print(\"The mean using 5-NN classifier is: \" + str(mean))\n",
    "    deviation = np.std(accuracies)\n",
    "    print(\"The standard deviation using 5-NN classifier is: \" + str(deviation))\n",
    "\n",
    "\n",
    "print(\"Using Euclidean distance:\\n\")\n",
    "measure_acc(\"euclidean\")"
   ]
  },
  {
   "cell_type": "markdown",
   "metadata": {},
   "source": [
    "Use the same neighbour number, but use the cosine distance instead of the Euclidean distance.\n",
    "Repeat the same experiment.\n",
    "\n",
    "Print out the mean and standard deviation."
   ]
  },
  {
   "cell_type": "code",
   "execution_count": 608,
   "metadata": {},
   "outputs": [
    {
     "name": "stdout",
     "output_type": "stream",
     "text": [
      "Using cosine distance:\n",
      "\n",
      "The mean using 5-NN classifier is: 0.9607291666666666\n",
      "The standard deviation using 5-NN classifier is: 0.007164819287090694\n"
     ]
    }
   ],
   "source": [
    "# Your code goes here\n",
    "print(\"Using cosine distance:\\n\")\n",
    "measure_acc(\"cosine\")"
   ]
  },
  {
   "cell_type": "markdown",
   "metadata": {},
   "source": [
    "Which distance measure gives better performance?"
   ]
  },
  {
   "cell_type": "markdown",
   "metadata": {},
   "source": [
    "By using cosine distance, we obtain a higher mean accuracy and smaller standard deviation. Thus, cosine distance measure gives us better performance."
   ]
  },
  {
   "cell_type": "markdown",
   "metadata": {},
   "source": [
    "### Experiment 2\n",
    "\n",
    "Using the distance measure that you found performs better in Experiment 1.\n",
    "\n",
    "Randomly select 80 articles per class for training, and use the remaining articles for testing. Train your k-NN classifier with the neighbour number $k$ varying from 1 to 50.\n",
    "\n",
    "For each values of $k$, repeat the training process by 20 trials and record the average training error rates and standard deviation.\n",
    "\n",
    "Do the same for testing errors."
   ]
  },
  {
   "cell_type": "code",
   "execution_count": 609,
   "metadata": {
    "scrolled": true
   },
   "outputs": [
    {
     "name": "stdout",
     "output_type": "stream",
     "text": [
      "Case k=1\n",
      "The mean error when training our model using 1-NN classifier is: 0.0\n",
      "The standard deviation error when training our model using 1-NN classifier is 0.0\n",
      "The mean error when testing our model using 1-NN classifier is: 0.035625\n",
      "The standard deviation error when testing our model using 1-NN classifier is 0.007508675537891706\n",
      "\n",
      "Case k=2\n",
      "The mean error when training our model using 2-NN classifier is: 0.016406249999999994\n",
      "The standard deviation error when training our model using 2-NN classifier is 0.007320441734451545\n",
      "The mean error when testing our model using 2-NN classifier is: 0.04104166666666666\n",
      "The standard deviation error when testing our model using 2-NN classifier is 0.008361930100162283\n",
      "\n",
      "Case k=3\n",
      "The mean error when training our model using 3-NN classifier is: 0.014999999999999996\n",
      "The standard deviation error when training our model using 3-NN classifier is 0.005642334401646191\n",
      "The mean error when testing our model using 3-NN classifier is: 0.0371875\n",
      "The standard deviation error when testing our model using 3-NN classifier is 0.009346600503510475\n",
      "\n",
      "Case k=4\n",
      "The mean error when training our model using 4-NN classifier is: 0.023281250000000003\n",
      "The standard deviation error when training our model using 4-NN classifier is 0.00527329282208943\n",
      "The mean error when testing our model using 4-NN classifier is: 0.04072916666666664\n",
      "The standard deviation error when testing our model using 4-NN classifier is 0.007231147663253578\n",
      "\n",
      "Case k=5\n",
      "The mean error when training our model using 5-NN classifier is: 0.024218750000000018\n",
      "The standard deviation error when training our model using 5-NN classifier is 0.006545737520516692\n",
      "The mean error when testing our model using 5-NN classifier is: 0.039374999999999986\n",
      "The standard deviation error when testing our model using 5-NN classifier is 0.00674755614195902\n",
      "\n",
      "Case k=6\n",
      "The mean error when training our model using 6-NN classifier is: 0.02953125\n",
      "The standard deviation error when training our model using 6-NN classifier is 0.0061297016393540805\n",
      "The mean error when testing our model using 6-NN classifier is: 0.04187500000000001\n",
      "The standard deviation error when testing our model using 6-NN classifier is 0.01060046186100713\n",
      "\n",
      "Case k=7\n",
      "The mean error when training our model using 7-NN classifier is: 0.027500000000000004\n",
      "The standard deviation error when training our model using 7-NN classifier is 0.008477912478906592\n",
      "The mean error when testing our model using 7-NN classifier is: 0.04197916666666667\n",
      "The standard deviation error when testing our model using 7-NN classifier is 0.008288289722721932\n",
      "\n",
      "Case k=8\n",
      "The mean error when training our model using 8-NN classifier is: 0.02874999999999999\n",
      "The standard deviation error when training our model using 8-NN classifier is 0.006889189901577685\n",
      "The mean error when testing our model using 8-NN classifier is: 0.042916666666666645\n",
      "The standard deviation error when testing our model using 8-NN classifier is 0.0076659872887392105\n",
      "\n",
      "Case k=9\n",
      "The mean error when training our model using 9-NN classifier is: 0.0315625\n",
      "The standard deviation error when training our model using 9-NN classifier is 0.008202752967754176\n",
      "The mean error when testing our model using 9-NN classifier is: 0.03927083333333332\n",
      "The standard deviation error when testing our model using 9-NN classifier is 0.006949564085050386\n",
      "\n",
      "Case k=10\n",
      "The mean error when training our model using 10-NN classifier is: 0.0340625\n",
      "The standard deviation error when training our model using 10-NN classifier is 0.0070503213579240585\n",
      "The mean error when testing our model using 10-NN classifier is: 0.04156249999999999\n",
      "The standard deviation error when testing our model using 10-NN classifier is 0.00860179547633322\n",
      "\n",
      "Case k=11\n",
      "The mean error when training our model using 11-NN classifier is: 0.03078125000000001\n",
      "The standard deviation error when training our model using 11-NN classifier is 0.009441172712513006\n",
      "The mean error when testing our model using 11-NN classifier is: 0.04416666666666666\n",
      "The standard deviation error when testing our model using 11-NN classifier is 0.007557648811340455\n",
      "\n",
      "Case k=12\n",
      "The mean error when training our model using 12-NN classifier is: 0.034687499999999996\n",
      "The standard deviation error when training our model using 12-NN classifier is 0.0067676274461586595\n",
      "The mean error when testing our model using 12-NN classifier is: 0.03947916666666666\n",
      "The standard deviation error when testing our model using 12-NN classifier is 0.009092383679334168\n",
      "\n",
      "Case k=13\n",
      "The mean error when training our model using 13-NN classifier is: 0.03406250000000001\n",
      "The standard deviation error when training our model using 13-NN classifier is 0.010359740283906743\n",
      "The mean error when testing our model using 13-NN classifier is: 0.041562499999999995\n",
      "The standard deviation error when testing our model using 13-NN classifier is 0.007639756895128718\n",
      "\n",
      "Case k=14\n",
      "The mean error when training our model using 14-NN classifier is: 0.036406250000000015\n",
      "The standard deviation error when training our model using 14-NN classifier is 0.009389311992233508\n",
      "The mean error when testing our model using 14-NN classifier is: 0.04541666666666666\n",
      "The standard deviation error when testing our model using 14-NN classifier is 0.007083333333333353\n",
      "\n",
      "Case k=15\n",
      "The mean error when training our model using 15-NN classifier is: 0.036093749999999994\n",
      "The standard deviation error when training our model using 15-NN classifier is 0.0068089870529690335\n",
      "The mean error when testing our model using 15-NN classifier is: 0.04468749999999998\n",
      "The standard deviation error when testing our model using 15-NN classifier is 0.007946080226893151\n",
      "\n",
      "Case k=16\n",
      "The mean error when training our model using 16-NN classifier is: 0.0390625\n",
      "The standard deviation error when training our model using 16-NN classifier is 0.009707640354380655\n",
      "The mean error when testing our model using 16-NN classifier is: 0.04406249999999999\n",
      "The standard deviation error when testing our model using 16-NN classifier is 0.00722514297244161\n",
      "\n",
      "Case k=17\n",
      "The mean error when training our model using 17-NN classifier is: 0.03671875\n",
      "The standard deviation error when training our model using 17-NN classifier is 0.007452650011069888\n",
      "The mean error when testing our model using 17-NN classifier is: 0.0465625\n",
      "The standard deviation error when testing our model using 17-NN classifier is 0.010484673834539006\n",
      "\n",
      "Case k=18\n",
      "The mean error when training our model using 18-NN classifier is: 0.03874999999999999\n",
      "The standard deviation error when training our model using 18-NN classifier is 0.008350243259929618\n",
      "The mean error when testing our model using 18-NN classifier is: 0.047083333333333324\n",
      "The standard deviation error when testing our model using 18-NN classifier is 0.010320388397084037\n",
      "\n",
      "Case k=19\n",
      "The mean error when training our model using 19-NN classifier is: 0.03953125\n",
      "The standard deviation error when training our model using 19-NN classifier is 0.0077984248209173575\n",
      "The mean error when testing our model using 19-NN classifier is: 0.04343749999999998\n",
      "The standard deviation error when testing our model using 19-NN classifier is 0.006119292976135231\n",
      "\n",
      "Case k=20\n",
      "The mean error when training our model using 20-NN classifier is: 0.039531250000000004\n",
      "The standard deviation error when training our model using 20-NN classifier is 0.00917893946420282\n",
      "The mean error when testing our model using 20-NN classifier is: 0.04791666666666665\n",
      "The standard deviation error when testing our model using 20-NN classifier is 0.009104905576421747\n",
      "\n",
      "Case k=21\n",
      "The mean error when training our model using 21-NN classifier is: 0.0421875\n",
      "The standard deviation error when training our model using 21-NN classifier is 0.009401005597807077\n",
      "The mean error when testing our model using 21-NN classifier is: 0.05052083333333333\n",
      "The standard deviation error when testing our model using 21-NN classifier is 0.00981325191740458\n",
      "\n",
      "Case k=22\n",
      "The mean error when training our model using 22-NN classifier is: 0.041875\n",
      "The standard deviation error when training our model using 22-NN classifier is 0.008860904299223649\n",
      "The mean error when testing our model using 22-NN classifier is: 0.0475\n",
      "The standard deviation error when testing our model using 22-NN classifier is 0.007867169828541354\n",
      "\n"
     ]
    },
    {
     "name": "stdout",
     "output_type": "stream",
     "text": [
      "Case k=23\n",
      "The mean error when training our model using 23-NN classifier is: 0.04203125\n",
      "The standard deviation error when training our model using 23-NN classifier is 0.01120106544876424\n",
      "The mean error when testing our model using 23-NN classifier is: 0.04843749999999999\n",
      "The standard deviation error when testing our model using 23-NN classifier is 0.00693706204823853\n",
      "\n",
      "Case k=24\n",
      "The mean error when training our model using 24-NN classifier is: 0.0459375\n",
      "The standard deviation error when training our model using 24-NN classifier is 0.012464794171986959\n",
      "The mean error when testing our model using 24-NN classifier is: 0.04812500000000001\n",
      "The standard deviation error when testing our model using 24-NN classifier is 0.01011865370381742\n",
      "\n",
      "Case k=25\n",
      "The mean error when training our model using 25-NN classifier is: 0.047812499999999994\n",
      "The standard deviation error when training our model using 25-NN classifier is 0.009380206887377273\n",
      "The mean error when testing our model using 25-NN classifier is: 0.04520833333333333\n",
      "The standard deviation error when testing our model using 25-NN classifier is 0.006817945071647342\n",
      "\n",
      "Case k=26\n",
      "The mean error when training our model using 26-NN classifier is: 0.044687500000000005\n",
      "The standard deviation error when training our model using 26-NN classifier is 0.010509482325500152\n",
      "The mean error when testing our model using 26-NN classifier is: 0.04791666666666666\n",
      "The standard deviation error when testing our model using 26-NN classifier is 0.009793882727952645\n",
      "\n",
      "Case k=27\n",
      "The mean error when training our model using 27-NN classifier is: 0.047656250000000004\n",
      "The standard deviation error when training our model using 27-NN classifier is 0.009316221991102408\n",
      "The mean error when testing our model using 27-NN classifier is: 0.0528125\n",
      "The standard deviation error when testing our model using 27-NN classifier is 0.009621188819764197\n",
      "\n",
      "Case k=28\n",
      "The mean error when training our model using 28-NN classifier is: 0.047812499999999994\n",
      "The standard deviation error when training our model using 28-NN classifier is 0.01269765603369377\n",
      "The mean error when testing our model using 28-NN classifier is: 0.0546875\n",
      "The standard deviation error when testing our model using 28-NN classifier is 0.008611881125966496\n",
      "\n",
      "Case k=29\n",
      "The mean error when training our model using 29-NN classifier is: 0.04453125000000001\n",
      "The standard deviation error when training our model using 29-NN classifier is 0.011894515214480152\n",
      "The mean error when testing our model using 29-NN classifier is: 0.05770833333333334\n",
      "The standard deviation error when testing our model using 29-NN classifier is 0.012536405319442\n",
      "\n",
      "Case k=30\n",
      "The mean error when training our model using 30-NN classifier is: 0.05062500000000001\n",
      "The standard deviation error when training our model using 30-NN classifier is 0.008003905296791061\n",
      "The mean error when testing our model using 30-NN classifier is: 0.053125\n",
      "The standard deviation error when testing our model using 30-NN classifier is 0.009328588823849217\n",
      "\n",
      "Case k=31\n",
      "The mean error when training our model using 31-NN classifier is: 0.04484374999999998\n",
      "The standard deviation error when training our model using 31-NN classifier is 0.009441172712512998\n",
      "The mean error when testing our model using 31-NN classifier is: 0.05770833333333333\n",
      "The standard deviation error when testing our model using 31-NN classifier is 0.009549305530304862\n",
      "\n",
      "Case k=32\n",
      "The mean error when training our model using 32-NN classifier is: 0.049843749999999985\n",
      "The standard deviation error when training our model using 32-NN classifier is 0.012902693214499817\n",
      "The mean error when testing our model using 32-NN classifier is: 0.05249999999999999\n",
      "The standard deviation error when testing our model using 32-NN classifier is 0.0084265618400653\n",
      "\n",
      "Case k=33\n",
      "The mean error when training our model using 33-NN classifier is: 0.04953125\n",
      "The standard deviation error when training our model using 33-NN classifier is 0.011745802109157974\n",
      "The mean error when testing our model using 33-NN classifier is: 0.051145833333333335\n",
      "The standard deviation error when testing our model using 33-NN classifier is 0.009914456161193231\n",
      "\n",
      "Case k=34\n",
      "The mean error when training our model using 34-NN classifier is: 0.055624999999999994\n",
      "The standard deviation error when training our model using 34-NN classifier is 0.010250762166785443\n",
      "The mean error when testing our model using 34-NN classifier is: 0.0578125\n",
      "The standard deviation error when testing our model using 34-NN classifier is 0.009290709031368678\n",
      "\n",
      "Case k=35\n",
      "The mean error when training our model using 35-NN classifier is: 0.0546875\n",
      "The standard deviation error when training our model using 35-NN classifier is 0.008529590039972609\n",
      "The mean error when testing our model using 35-NN classifier is: 0.057812500000000024\n",
      "The standard deviation error when testing our model using 35-NN classifier is 0.008611881125966477\n",
      "\n",
      "Case k=36\n",
      "The mean error when training our model using 36-NN classifier is: 0.0528125\n",
      "The standard deviation error when training our model using 36-NN classifier is 0.012918766630371482\n",
      "The mean error when testing our model using 36-NN classifier is: 0.05947916666666666\n",
      "The standard deviation error when testing our model using 36-NN classifier is 0.008972251784437007\n",
      "\n",
      "Case k=37\n",
      "The mean error when training our model using 37-NN classifier is: 0.05484374999999999\n",
      "The standard deviation error when training our model using 37-NN classifier is 0.007491857559210537\n",
      "The mean error when testing our model using 37-NN classifier is: 0.0571875\n",
      "The standard deviation error when testing our model using 37-NN classifier is 0.009512304714012388\n",
      "\n",
      "Case k=38\n",
      "The mean error when training our model using 38-NN classifier is: 0.05421875\n",
      "The standard deviation error when training our model using 38-NN classifier is 0.010972043665037979\n",
      "The mean error when testing our model using 38-NN classifier is: 0.06395833333333333\n",
      "The standard deviation error when testing our model using 38-NN classifier is 0.008617549116644344\n",
      "\n",
      "Case k=39\n",
      "The mean error when training our model using 39-NN classifier is: 0.06046875\n",
      "The standard deviation error when training our model using 39-NN classifier is 0.010610053825853102\n",
      "The mean error when testing our model using 39-NN classifier is: 0.06104166666666666\n",
      "The standard deviation error when testing our model using 39-NN classifier is 0.01131731404628422\n",
      "\n",
      "Case k=40\n",
      "The mean error when training our model using 40-NN classifier is: 0.06218750000000001\n",
      "The standard deviation error when training our model using 40-NN classifier is 0.01050018601025715\n",
      "The mean error when testing our model using 40-NN classifier is: 0.0590625\n",
      "The standard deviation error when testing our model using 40-NN classifier is 0.00982209368238541\n",
      "\n",
      "Case k=41\n",
      "The mean error when training our model using 41-NN classifier is: 0.06046875\n",
      "The standard deviation error when training our model using 41-NN classifier is 0.009944916650605968\n",
      "The mean error when testing our model using 41-NN classifier is: 0.06270833333333334\n",
      "The standard deviation error when testing our model using 41-NN classifier is 0.008811785826065241\n",
      "\n",
      "Case k=42\n",
      "The mean error when training our model using 42-NN classifier is: 0.0578125\n",
      "The standard deviation error when training our model using 42-NN classifier is 0.00875557857882619\n",
      "The mean error when testing our model using 42-NN classifier is: 0.06833333333333333\n",
      "The standard deviation error when testing our model using 42-NN classifier is 0.009560661587986475\n",
      "\n",
      "Case k=43\n",
      "The mean error when training our model using 43-NN classifier is: 0.059375\n",
      "The standard deviation error when training our model using 43-NN classifier is 0.01045825033167594\n",
      "The mean error when testing our model using 43-NN classifier is: 0.06135416666666669\n",
      "The standard deviation error when testing our model using 43-NN classifier is 0.012421192547640318\n",
      "\n",
      "Case k=44\n",
      "The mean error when training our model using 44-NN classifier is: 0.060625\n",
      "The standard deviation error when training our model using 44-NN classifier is 0.013087744744607452\n",
      "The mean error when testing our model using 44-NN classifier is: 0.06385416666666667\n",
      "The standard deviation error when testing our model using 44-NN classifier is 0.009182632875585173\n",
      "\n"
     ]
    },
    {
     "name": "stdout",
     "output_type": "stream",
     "text": [
      "Case k=45\n",
      "The mean error when training our model using 45-NN classifier is: 0.06234375000000001\n",
      "The standard deviation error when training our model using 45-NN classifier is 0.009605245555814799\n",
      "The mean error when testing our model using 45-NN classifier is: 0.06510416666666666\n",
      "The standard deviation error when testing our model using 45-NN classifier is 0.012019858423782606\n",
      "\n",
      "Case k=46\n",
      "The mean error when training our model using 46-NN classifier is: 0.06187499999999999\n",
      "The standard deviation error when training our model using 46-NN classifier is 0.011717708287032915\n",
      "The mean error when testing our model using 46-NN classifier is: 0.06770833333333331\n",
      "The standard deviation error when testing our model using 46-NN classifier is 0.00813567674573609\n",
      "\n",
      "Case k=47\n",
      "The mean error when training our model using 47-NN classifier is: 0.06281250000000001\n",
      "The standard deviation error when training our model using 47-NN classifier is 0.01168850263079065\n",
      "The mean error when testing our model using 47-NN classifier is: 0.07354166666666666\n",
      "The standard deviation error when testing our model using 47-NN classifier is 0.009480883544152302\n",
      "\n",
      "Case k=48\n",
      "The mean error when training our model using 48-NN classifier is: 0.06031249999999999\n",
      "The standard deviation error when training our model using 48-NN classifier is 0.00983754764918574\n",
      "The mean error when testing our model using 48-NN classifier is: 0.06833333333333333\n",
      "The standard deviation error when testing our model using 48-NN classifier is 0.008348943712297446\n",
      "\n",
      "Case k=49\n",
      "The mean error when training our model using 49-NN classifier is: 0.06265625\n",
      "The standard deviation error when training our model using 49-NN classifier is 0.0068089870529690405\n",
      "The mean error when testing our model using 49-NN classifier is: 0.06666666666666665\n",
      "The standard deviation error when testing our model using 49-NN classifier is 0.010582020916000237\n",
      "\n",
      "Case k=50\n",
      "The mean error when training our model using 50-NN classifier is: 0.07078124999999999\n",
      "The standard deviation error when training our model using 50-NN classifier is 0.013844667012517855\n",
      "The mean error when testing our model using 50-NN classifier is: 0.06895833333333332\n",
      "The standard deviation error when testing our model using 50-NN classifier is 0.0072737876042066885\n",
      "\n"
     ]
    }
   ],
   "source": [
    "# Your code goes here\n",
    "def train_classifier(k=1, metric=\"cosine\"):\n",
    "    train_indices = sample_indices(labels, 80, 80, 80, 80)\n",
    "    res = knn_classify(data[train_indices], data[train_indices], labels[train_indices], metric, k)\n",
    "    number_true = np.count_nonzero(labels[train_indices]==res)\n",
    "    accuracy = number_true/(4*80)\n",
    "    return accuracy\n",
    "\n",
    "\n",
    "err_mean_test = list()\n",
    "err_std_test = list()\n",
    "err_mean_train = list()\n",
    "err_std_train = list()\n",
    "temp_train = list()\n",
    "temp_test = list()\n",
    "\n",
    "for x in range(50):\n",
    "    k = x+1\n",
    "    temp_train = list()\n",
    "    temp_test = list()  \n",
    "    for i in range(20):\n",
    "        acc_train = train_classifier(k, \"cosine\")\n",
    "        temp_train.append(1 - acc_train) \n",
    "        acc_test = classifier(k, \"cosine\")\n",
    "        temp_test.append(1 - acc_test)\n",
    "        \n",
    "    err_mean_train.append(np.mean(temp_train))\n",
    "    err_std_train.append(np.std(temp_train))\n",
    "    err_mean_test.append(np.mean(temp_test))\n",
    "    err_std_test.append(np.std(temp_test))\n",
    "    \n",
    "    print(\"Case k=\"+str(k))\n",
    "    print(\"The mean error when training our model using \" + str(k) + \"-NN classifier is: \" + str(err_mean_train[x]))\n",
    "    print(\"The standard deviation error when training our model using \" + str(k) + \"-NN classifier is \" + str(err_std_train[x]))\n",
    "    print(\"The mean error when testing our model using \" + str(k) + \"-NN classifier is: \" + str(err_mean_test[x]))\n",
    "    print(\"The standard deviation error when testing our model using \" + str(k) + \"-NN classifier is \" + str(err_std_test[x]))\n",
    "    print()"
   ]
  },
  {
   "cell_type": "markdown",
   "metadata": {},
   "source": [
    "Produce an error bar plot showing the training error rate for each $k$ here:"
   ]
  },
  {
   "cell_type": "code",
   "execution_count": 610,
   "metadata": {},
   "outputs": [
    {
     "data": {
      "image/png": "[encoded data removed]",
      "text/plain": [
       "<Figure size 1440x720 with 1 Axes>"
      ]
     },
     "metadata": {
      "needs_background": "light"
     },
     "output_type": "display_data"
    }
   ],
   "source": [
    "# Your code goes here\n",
    "plt.figure(figsize=(20,10))\n",
    "plt.errorbar(range(1,51), err_mean_train, yerr=err_std_train, ecolor='red', color='blue')\n",
    "plt.title(\"Training error rate for each k\")\n",
    "plt.xlabel(\"Range of values of k\")\n",
    "plt.ylabel(\"Error rate\")\n",
    "plt.show()"
   ]
  },
  {
   "cell_type": "markdown",
   "metadata": {},
   "source": [
    "Produce your testing error bar plot here:"
   ]
  },
  {
   "cell_type": "code",
   "execution_count": 611,
   "metadata": {},
   "outputs": [
    {
     "data": {
      "image/png": "[encoded data removed]",
      "text/plain": [
       "<Figure size 1440x720 with 1 Axes>"
      ]
     },
     "metadata": {
      "needs_background": "light"
     },
     "output_type": "display_data"
    }
   ],
   "source": [
    "# Your code goes here\n",
    "plt.figure(figsize=(20,10))\n",
    "plt.errorbar(range(1,51), err_mean_test, yerr=err_std_test, ecolor='red', color='blue')\n",
    "plt.title(\"Testing error rate for each number k\")\n",
    "plt.xlabel(\"Range of values of k\")\n",
    "plt.ylabel(\"Error rate\")\n",
    "plt.show()"
   ]
  },
  {
   "cell_type": "markdown",
   "metadata": {},
   "source": [
    "**Remember that all graphs should have axis labels and a title.**"
   ]
  },
  {
   "cell_type": "markdown",
   "metadata": {},
   "source": [
    "### Experiment 3\n",
    "\n",
    "Compare three 5-NN classifiers using cosine distance.\n",
    "\n",
    "First, randomly select 100 articles per class and keep these as your testing samples. Set all the remaining articles as the training set."
   ]
  },
  {
   "cell_type": "code",
   "execution_count": 612,
   "metadata": {},
   "outputs": [],
   "source": [
    "# Your code goes here\n",
    "testing_indices = sample_indices(labels, 100, 100, 100, 100)\n",
    "training_indices = np.setdiff1d(np.arange(800), testing_indices, assume_unique = True)"
   ]
  },
  {
   "cell_type": "markdown",
   "metadata": {},
   "source": [
    "Then do the following:\n",
    "\n",
    "(1) Train the first classifier using the traning set.\n",
    "Compute the confusion matrix for the 4 classes using the testing samples.\n",
    "\n",
    "Print out the label distribution, 4 confusion matrices, and the accuracy of the classifier."
   ]
  },
  {
   "cell_type": "code",
   "execution_count": 613,
   "metadata": {},
   "outputs": [
    {
     "name": "stdout",
     "output_type": "stream",
     "text": [
      "Classifier 1:\n",
      "\n",
      "There are 100 train articles from class earn\n",
      "There are 100 train articles from class crude\n",
      "There are 100 train articles from class trade\n",
      "There are 100 train articles from class interest\n",
      "\n",
      "There are 100 test articles from class earn\n",
      "There are 100 test articles from class crude\n",
      "There are 100 test articles from class trade\n",
      "There are 100 test articles from class interest\n",
      "\n",
      "All confusion matrices will be printed in the following patern:\n",
      "[[ True Positives     False Positives]\n",
      " [ False Negatives    True Negatives ]]\n",
      "\n",
      "True positives - correctly classified it the respective class.\n",
      "False positives - the model classifies it in one class, but it belongs to another.\n",
      "False negative - the model classifies it as not belonging to a certain class, while it does belong to this class.\n",
      "True negatives - correctly classified as not part of the respective class.\n",
      "\n",
      "For class earn: \n",
      "[[100   6]\n",
      " [  0 294]]\n",
      "\n",
      "For class crude: \n",
      "[[ 93   1]\n",
      " [  7 299]]\n",
      "\n",
      "For class trade: \n",
      "[[ 94   4]\n",
      " [  6 296]]\n",
      "\n",
      "For class interest: \n",
      "[[ 99   3]\n",
      " [  1 297]]\n",
      "\n",
      "Overal accuracy of the classifier: 0.965 = 96.5%\n"
     ]
    }
   ],
   "source": [
    "# Your code goes here\n",
    "\n",
    "def intro():\n",
    "    print(\"All confusion matrices will be printed in the following patern:\")\n",
    "    print(\"[[ True Positives     False Positives]\")\n",
    "    print(\" [ False Negatives    True Negatives ]]\")\n",
    "    print()\n",
    "    print(\"True positives - correctly classified it the respective class.\")\n",
    "    print(\"False positives - the model classifies it in one class, but it belongs to another.\")\n",
    "    print(\"False negative - the model classifies it as not belonging to a certain class, while it does belong to this class.\")\n",
    "    print(\"True negatives - correctly classified as not part of the respective class.\")\n",
    "    print()\n",
    "    \n",
    "\n",
    "\n",
    "def training(testing_set, training_set):\n",
    "    model = knn_classify(data[testing_set], data[training_set], labels[training_set], \"cosine\", 5)\n",
    "    overal_accuracy = list()\n",
    "    for i in range(4):  \n",
    "        print(\"For class \" + class_names[i] + \": \")  \n",
    "        true_pos = np.logical_and(model == i, labels[testing_set] == i)\n",
    "        false_neg = np.logical_and(model != i, labels[testing_set] == i)\n",
    "        true_neg = np.logical_and(model != i, labels[testing_set] != i)\n",
    "        false_pos = np.logical_and(model == i, labels[testing_set] != i) \n",
    "        TP = np.count_nonzero(true_pos == True)\n",
    "        FN = np.count_nonzero(false_neg == True)\n",
    "        TN = np.count_nonzero(true_neg == True)\n",
    "        FP = np.count_nonzero(false_pos == True)\n",
    "        overal_accuracy.append(TP)\n",
    "        confusion_matrix = np.array([[TP, FP], [FN, TN]])\n",
    "        print(confusion_matrix)\n",
    "        print()\n",
    "    \n",
    "    \n",
    "    summ = sum(overal_accuracy)\n",
    "    print(\"Overal accuracy of the classifier: \" + str(summ/400) + \" = \"+str(summ/4) + \"%\")\n",
    "    \n",
    "print(\"Classifier 1:\")\n",
    "print()\n",
    "print(\"There are 100 train articles from class \" + class_names[0])\n",
    "print(\"There are 100 train articles from class \" + class_names[1])\n",
    "print(\"There are 100 train articles from class \" + class_names[2])\n",
    "print(\"There are 100 train articles from class \" + class_names[3])\n",
    "print()\n",
    "print(\"There are 100 test articles from class \" + class_names[0])\n",
    "print(\"There are 100 test articles from class \" + class_names[1])\n",
    "print(\"There are 100 test articles from class \" + class_names[2])\n",
    "print(\"There are 100 test articles from class \" + class_names[3])\n",
    "print()\n",
    "intro()  \n",
    "training(testing_indices, training_indices)"
   ]
  },
  {
   "cell_type": "markdown",
   "metadata": {},
   "source": [
    "(2) Randomly remove 95 training articles from class 1 (\"crude\") of the training set.\n",
    "Train the second classifier using the reduced training samples.\n",
    "Compute the confusion matrix for the 4 classes using the testing samples.\n",
    "\n",
    "Print out the label distribution, 4 confusion matrices, and the accuracy of the classifier."
   ]
  },
  {
   "cell_type": "code",
   "execution_count": 614,
   "metadata": {},
   "outputs": [
    {
     "name": "stdout",
     "output_type": "stream",
     "text": [
      "Classifier 2:\n",
      "\n",
      "There are 100 train articles from class earn\n",
      "There are 5 train articles from class crude\n",
      "There are 100 train articles from class trade\n",
      "There are 100 train articles from class interest\n",
      "\n",
      "There are 100 test articles from class earn\n",
      "There are 100 test articles from class crude\n",
      "There are 100 test articles from class trade\n",
      "There are 100 test articles from class interest\n",
      "\n",
      "All confusion matrices will be printed in the following patern:\n",
      "[[ True Positives     False Positives]\n",
      " [ False Negatives    True Negatives ]]\n",
      "\n",
      "True positives - correctly classified it the respective class.\n",
      "False positives - the model classifies it in one class, but it belongs to another.\n",
      "False negative - the model classifies it as not belonging to a certain class, while it does belong to this class.\n",
      "True negatives - correctly classified as not part of the respective class.\n",
      "\n",
      "For class earn: \n",
      "[[100  33]\n",
      " [  0 267]]\n",
      "\n",
      "For class crude: \n",
      "[[ 36   0]\n",
      " [ 64 300]]\n",
      "\n",
      "For class trade: \n",
      "[[ 95  19]\n",
      " [  5 281]]\n",
      "\n",
      "For class interest: \n",
      "[[ 99  18]\n",
      " [  1 282]]\n",
      "\n",
      "Overal accuracy of the classifier: 0.825 = 82.5%\n"
     ]
    }
   ],
   "source": [
    "# Your code goes here\n",
    "print(\"Classifier 2:\")\n",
    "print()\n",
    "print(\"There are 100 train articles from class \" + class_names[0])\n",
    "print(\"There are 5 train articles from class \" + class_names[1])\n",
    "print(\"There are 100 train articles from class \" + class_names[2])\n",
    "print(\"There are 100 train articles from class \" + class_names[3])\n",
    "print()\n",
    "print(\"There are 100 test articles from class \" + class_names[0])\n",
    "print(\"There are 100 test articles from class \" + class_names[1])\n",
    "print(\"There are 100 test articles from class \" + class_names[2])\n",
    "print(\"There are 100 test articles from class \" + class_names[3])\n",
    "print()\n",
    "intro()\n",
    "training(testing_indices, training_indices[sample_indices(labels[training_indices], 100, 5, 100, 100)])"
   ]
  },
  {
   "cell_type": "markdown",
   "metadata": {},
   "source": [
    "(3) Randomly remove 95 training articles from *all* the classes of the training set.\n",
    "Train the third classifier using the new training data.\n",
    "Compute the confusion matrix for the 4 classes using the testing samples.\n",
    "\n",
    "Print out the label distribution, 4 confusion matrices, and the accuracy of the classifier."
   ]
  },
  {
   "cell_type": "code",
   "execution_count": 615,
   "metadata": {},
   "outputs": [
    {
     "name": "stdout",
     "output_type": "stream",
     "text": [
      "Classifier 3:\n",
      "\n",
      "There are 5 articles from class earn\n",
      "There are 5 articles from class crude\n",
      "There are 5 articles from class trade\n",
      "There are 5 articles from class interest\n",
      "\n",
      "There are 100 test articles from class earn\n",
      "There are 100 test articles from class crude\n",
      "There are 100 test articles from class trade\n",
      "There are 100 test articles from class interest\n",
      "\n",
      "All confusion matrices will be printed in the following patern:\n",
      "[[ True Positives     False Positives]\n",
      " [ False Negatives    True Negatives ]]\n",
      "\n",
      "True positives - correctly classified it the respective class.\n",
      "False positives - the model classifies it in one class, but it belongs to another.\n",
      "False negative - the model classifies it as not belonging to a certain class, while it does belong to this class.\n",
      "True negatives - correctly classified as not part of the respective class.\n",
      "\n",
      "For class earn: \n",
      "[[ 96  15]\n",
      " [  4 285]]\n",
      "\n",
      "For class crude: \n",
      "[[ 79   7]\n",
      " [ 21 293]]\n",
      "\n",
      "For class trade: \n",
      "[[ 95  17]\n",
      " [  5 283]]\n",
      "\n",
      "For class interest: \n",
      "[[ 88   3]\n",
      " [ 12 297]]\n",
      "\n",
      "Overal accuracy of the classifier: 0.895 = 89.5%\n"
     ]
    }
   ],
   "source": [
    "# Your code goes here\n",
    "print(\"Classifier 3:\")\n",
    "print()\n",
    "print(\"There are 5 articles from class \" + class_names[0])\n",
    "print(\"There are 5 articles from class \" + class_names[1])\n",
    "print(\"There are 5 articles from class \" + class_names[2])\n",
    "print(\"There are 5 articles from class \" + class_names[3])\n",
    "print()\n",
    "print(\"There are 100 test articles from class \" + class_names[0])\n",
    "print(\"There are 100 test articles from class \" + class_names[1])\n",
    "print(\"There are 100 test articles from class \" + class_names[2])\n",
    "print(\"There are 100 test articles from class \" + class_names[3])\n",
    "print()\n",
    "intro()\n",
    "training(testing_indices, training_indices[sample_indices(labels[training_indices], 5, 5, 5, 5)])"
   ]
  },
  {
   "cell_type": "markdown",
   "metadata": {},
   "source": [
    "Repeat the whole thing a few times.\n",
    "Which of the three classifiers performs the worst?"
   ]
  },
  {
   "cell_type": "markdown",
   "metadata": {},
   "source": [
    "In most cases, the second classifier performs the worst. The reason for this should be the quite imbalanced training set, containing only $5$ crude articles, compared to the $100$ in each other type."
   ]
  },
  {
   "cell_type": "markdown",
   "metadata": {},
   "source": [
    "## 5. Result Analysis \n",
    "\n",
    "### Analysis 1\n",
    "Choose a training-testing trial in Experiment 2 for k=1. Observe the testing error of this 1-NN, and estimate the interval where its true error lies with 90% probability. Explain how you compute it below."
   ]
  },
  {
   "cell_type": "code",
   "execution_count": 616,
   "metadata": {},
   "outputs": [
    {
     "name": "stdout",
     "output_type": "stream",
     "text": [
      "Testing error of our 1-NN model: 0.03749999999999998\n"
     ]
    }
   ],
   "source": [
    "error = 1-classifier(1, \"cosine\")\n",
    "print(\"Testing error of our 1-NN model: \" + str(error))"
   ]
  },
  {
   "cell_type": "markdown",
   "metadata": {},
   "source": [
    "In my experiment, the obtained testing error was $0.03125$. We are also given the probability $$p=90\\% = 0.9$$Given the probability $p$, we look up the value of $z_p,$ namely $$z_p = 1.645$$To have a probability $90\\%$ of our true error lying in the interval we want to obtain, we first need to find the value of $a$ for which $$error_d \\text{ lies in } [error_s - a; erros_s + a].$$We can compute the value of $a$ using the formula $$a = z_p \\cdot \\sqrt{\\frac{error_s \\cdot(1-error_s)}{n}}.$$Plugging in the values $z_p = 1.645$, $error_s = 0.03125$, $1-error_s = 0.96875$, and $n = 480$, we calculate $$a = 0.013064.$$We then compute the bounds of the interval $(error_s - a; erros_s + a).$ We get $$error_s - a = 0.018186$$ and $$error_s + a = 0.044314.$$\n",
    "\n",
    "Hence, we can conclude that the true error lies in the interval $[0.018186; 0.044312]$ with $90\\%$ probability."
   ]
  },
  {
   "cell_type": "markdown",
   "metadata": {},
   "source": [
    "### Analysis 2\n",
    "The following function `Get_p_value()` is provided to obtain $p$ according to $z_p$. Use this function to perform Analysis 2."
   ]
  },
  {
   "cell_type": "code",
   "execution_count": 617,
   "metadata": {},
   "outputs": [],
   "source": [
    "# run this cell first\n",
    "\n",
    "def Get_p_value(zp):\n",
    "    return round(1 - scipy.stats.norm.sf(abs(zp))*2,2)"
   ]
  },
  {
   "cell_type": "code",
   "execution_count": 618,
   "metadata": {},
   "outputs": [
    {
     "name": "stdout",
     "output_type": "stream",
     "text": [
      "zp = 0.67, p =  0.5\n",
      "zp = 1, p =  0.68\n",
      "zp = 1.64, p =  0.9\n",
      "zp = 2.58, p =  0.99\n",
      "\n",
      "p =  0.33\n"
     ]
    }
   ],
   "source": [
    "# Use this cell to compare the output value of function Get_p_value with \n",
    "# the table provided in your lecture notes (e.g., Slide 12, Chapter3C.pdf)\n",
    "\n",
    "print('zp = 0.67, p = ', Get_p_value(0.67))\n",
    "print('zp = 1, p = ', Get_p_value(1))\n",
    "print('zp = 1.64, p = ', Get_p_value(1.64))\n",
    "print('zp = 2.58, p = ', Get_p_value(2.58))\n",
    "print()\n",
    "\n",
    "# you can alert the input zp value and re-run this cell to help you to calculate the corresponding p.\n",
    "print('p = ', Get_p_value(0.43))  \n",
    "\n",
    "\n",
    "# you can change 0.43 to any zp value you obtained."
   ]
  },
  {
   "cell_type": "markdown",
   "metadata": {},
   "source": [
    "Choose a training-testing trial in Experiment 2 for k=45. Observe the testing error of this 45-NN. Compare it with the 1-NN in Analysis 1. Which one has higher testing sample error? Estimate the probability that it also has higher true error. Explain how you compute it below.  "
   ]
  },
  {
   "cell_type": "code",
   "execution_count": 619,
   "metadata": {},
   "outputs": [
    {
     "name": "stdout",
     "output_type": "stream",
     "text": [
      "Testing error of our 45-NN model: 0.060416666666666674\n"
     ]
    }
   ],
   "source": [
    "new_error = 1 - classifier(45, \"cosine\")\n",
    "print(\"Testing error of our 45-NN model: \" + str(new_error))\n",
    "\n",
    "# print(Get_p_value(1.61724))"
   ]
  },
  {
   "cell_type": "markdown",
   "metadata": {},
   "source": [
    "The testing error of our 45-NN model in my experiment was $0.05208.$ This error is higher than the error obtained in our experiment with 1-NN, where the error was $0.03125.$ We now want to estimate the probability that our 45-NN model has a higher error than our 1-NN model. Thus, we are using Z-Test.\n",
    "\n",
    "Our first step is to compute $$z_p = \\frac{d}{\\sigma},$$where $$d = |erros_{s1}(\\text{45-NN}) - error_{s2}(\\text{1-NN})|$$and $$\\sigma = \\sqrt{\\frac{error_{s1}(\\text{45-NN}) \\cdot (1-erros_{s1}(\\text{45-NN}))}{n_1} + \\frac{error_{s2}(\\text{1-NN}) \\cdot (1-error_{s2}(\\text{1-NN}))}{n_2}}.$$ We then plug in the numbers, where $n_1 = n_2 = 480,$ and obtain $$d = |0.05208 - 0.03125| = 0.02083,$$and $$\\sigma = 0.01288.$$From here we compute $$z_p = \\frac{0.02083}{0.01288} = 1.61724.$$ \n",
    "\n",
    "Now we can use the provided Get_p_value method with an argument of 1.61724 to obtain the value of $$p = 0.89.$$ \n",
    "\n",
    "The final step is to calculate the final probability $$C = 1-\\frac{(1-p)}{2}.$$ We substitute the numbers: $$C = 1-\\frac{0.11}{2} = 0.945 = 94.5\\%.$$\n",
    "\n",
    "In conclusion, we can say that the probability that the testing error in our 45-NN model is higher than the testing error in our 1-NN model is $94.5\\%.$"
   ]
  },
  {
   "cell_type": "markdown",
   "metadata": {},
   "source": [
    "### Analysis 3\n",
    "\n",
    "Finally, observe and reflect on all the results you have obtained in each experiment, and try to intepret them using your machine learning knowledge. Be ready to answer the questions asked by GTA in your face-to-face marking, regarding to your results, implementation, as well as analysis and interpretation of your results."
   ]
  }
 ],
 "metadata": {
  "kernelspec": {
   "display_name": "Python 3",
   "language": "python",
   "name": "python3"
  },
  "language_info": {
   "codemirror_mode": {
    "name": "ipython",
    "version": 3
   },
   "file_extension": ".py",
   "mimetype": "text/x-python",
   "name": "python",
   "nbconvert_exporter": "python",
   "pygments_lexer": "ipython3",
   "version": "3.7.6"
  }
 },
 "nbformat": 4,
 "nbformat_minor": 4
}
