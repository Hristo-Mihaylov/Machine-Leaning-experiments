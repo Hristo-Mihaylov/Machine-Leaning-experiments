{
 "cells": [
  {
   "cell_type": "markdown",
   "metadata": {},
   "source": [
    "# Lab 1: Python exercises for COMP24111\n",
    "\n",
    "# 1. Instruction\n",
    "\n",
    "There are a total of 12 exercises. You are asked to complete all of them. Print out the final results, and comment if needed. Make sure your results can be reproduced by your TA using Restart & Run All."
   ]
  },
  {
   "cell_type": "markdown",
   "metadata": {},
   "source": [
    "## 2. Exercises\n",
    "\n",
    "Start with our provided supporting tutorial \"Instruction on Mathematical Programming in Python\", if needed, also the file \"Maths Knowledge Overview - COMP24112\". After you are familiar with the basics, you can proceed to the exercises.\n"
   ]
  },
  {
   "cell_type": "markdown",
   "metadata": {},
   "source": [
    "### Exercise 1\n",
    "\n",
    "Input a 4 by 4 magic square matrix \n",
    "$$\\textbf{A}=\n",
    "\\left[\n",
    "\\begin{array}{cccc}\n",
    "        16   &   3 &  2 & 13 \\\\\n",
    "        5    &  10 & 11 &  8 \\\\\n",
    "        9    &   6 &  7 & 12 \\\\\n",
    "        4    &  15 & 14 &  1 \\\\\n",
    "\\end{array}\n",
    "\\right]. \n",
    "$$  \n",
    "\n",
    "Generate a 4 by 4 matrix $\\textbf{B}$ with random integer entries. Set $\\textbf{C}$ to be a 4 by 4 matrix with 1's on the diagonal and 0's elsewhere. Check to see that, $\\textbf{A}$, $\\textbf{B}$ and $\\textbf{C}$ are all present. Compute the sum of the third column of $\\textbf{A}$."
   ]
  },
  {
   "cell_type": "code",
   "execution_count": 4,
   "metadata": {},
   "outputs": [
    {
     "name": "stdout",
     "output_type": "stream",
     "text": [
      "Matrix A:\n",
      "[[16  3  2 13]\n",
      " [ 5 10 11  8]\n",
      " [ 9  6  7 12]\n",
      " [ 4 15 14  1]]\n",
      "Matrix B:\n",
      "[[ 9 68  9 44]\n",
      " [89 13 54 41]\n",
      " [87 60 38 14]\n",
      " [47 37 14 26]]\n",
      "Matrix C:\n",
      "[[1 0 0 0]\n",
      " [0 1 0 0]\n",
      " [0 0 1 0]\n",
      " [0 0 0 1]]\n",
      "The sum of the elements in the third column of A: \n",
      "34\n",
      "[[2 1 3 0]\n",
      " [0 3 1 2]\n",
      " [1 2 0 3]\n",
      " [3 0 2 1]]\n",
      "[[2 1]\n",
      " [0 3]\n",
      " [1 2]\n",
      " [3 0]]\n"
     ]
    }
   ],
   "source": [
    "# Write your code here\n",
    "import numpy as np\n",
    "import random\n",
    "\n",
    "A = np.array([[16,3,2,13], [5,10,11,8], [9,6,7,12], [4,15,14,1]])\n",
    "print(\"Matrix A:\")\n",
    "print(A)\n",
    "\n",
    "B = np.random.randint(1, 100, size=[4, 4])\n",
    "print(\"Matrix B:\")\n",
    "print (B)\n",
    "\n",
    "C = np.eye(4, dtype=int)\n",
    "print(\"Matrix C:\")\n",
    "print(C)\n",
    "\n",
    "# we will compute the sum of all columns and use this in ex.4\n",
    "sum_of_cols = np.sum(A, axis=0)\n",
    "sum_third_col = sum_of_cols[2]\n",
    "print(\"The sum of the elements in the third column of A: \")\n",
    "print(sum_third_col)\n",
    "#print(np.sum(A[:, 2], axis=0)) - another way\n",
    "print(np.argsort(A, axis=1))\n",
    "print(np.argsort(A, axis=1)[:, :2])"
   ]
  },
  {
   "cell_type": "markdown",
   "metadata": {},
   "source": [
    "### Exercise 2\n",
    "\n",
    "Generate a 4 by 2 matrix consisting of the odd-numbered columns of $\\textbf{B}$  using the colon operator."
   ]
  },
  {
   "cell_type": "code",
   "execution_count": 14,
   "metadata": {},
   "outputs": [
    {
     "name": "stdout",
     "output_type": "stream",
     "text": [
      "[[18 73]\n",
      " [30 21]\n",
      " [60 44]\n",
      " [26 97]]\n"
     ]
    }
   ],
   "source": [
    "# Write your code here\n",
    "\n",
    "# We take the first(0) and third(2) column\n",
    "M = B[:, ::2]\n",
    "print(M)"
   ]
  },
  {
   "cell_type": "markdown",
   "metadata": {},
   "source": [
    "### Exercise 3\n",
    "\n",
    "Generate a 4 by 2 matrix containing two different columns that are randomly selected from the columns of $\\textbf{B}$. Generate a 3 by 4 matrix containing three different rows that are randomly selected from the rows of $\\textbf{B}$. "
   ]
  },
  {
   "cell_type": "code",
   "execution_count": 15,
   "metadata": {},
   "outputs": [
    {
     "name": "stdout",
     "output_type": "stream",
     "text": [
      "Two random columns from B: \n",
      "[[59 18]\n",
      " [78 30]\n",
      " [ 9 60]\n",
      " [25 26]]\n",
      "Three random rows from B: \n",
      "[[60  9 44 76]\n",
      " [18 59 73 31]\n",
      " [30 78 21  6]]\n"
     ]
    }
   ],
   "source": [
    "# Write your code here\n",
    "\n",
    "cols = np.random.choice(range(4), 2, replace=False)\n",
    "Cols = np.squeeze(B[:, cols])\n",
    "print(\"Two random columns from B: \")\n",
    "print(Cols)\n",
    "\n",
    "# Second matrix\n",
    "\n",
    "print(\"Three random rows from B: \")\n",
    "print(B[np.random.choice(range(4), 3, replace=False), :])"
   ]
  },
  {
   "cell_type": "markdown",
   "metadata": {},
   "source": [
    "### Exercise 4\n",
    "\n",
    "The matrix $\\textbf{A}$ is a magic square, in which the sum of each row, each column, and each diagonal is the same. First check whether $\\textbf{A}$ satisfies this  magic square condition, then sort the 2nd row of $\\textbf{A}$ by using appropriate commands."
   ]
  },
  {
   "cell_type": "code",
   "execution_count": 16,
   "metadata": {},
   "outputs": [
    {
     "name": "stdout",
     "output_type": "stream",
     "text": [
      "A is indeed a magic square!\n",
      "With sorted second row of A:\n",
      "[[16  3  2 13]\n",
      " [ 5  8 10 11]\n",
      " [ 9  6  7 12]\n",
      " [ 4 15 14  1]]\n"
     ]
    }
   ],
   "source": [
    "# Write your code here\n",
    "\n",
    "# We have used the sum of columns in ex.1 so we will use it here\n",
    "s = sum_third_col\n",
    "sum_of_rows = np.sum(A, axis=1)\n",
    "is_magic = True\n",
    "diag1 = np.trace(A)\n",
    "diag2 = 0\n",
    "for i in range(A.shape[0]):\n",
    "    diag2 = diag2 + A[i, A.shape[0]-i-1]\n",
    "    \n",
    "\n",
    "for i in range(4):\n",
    "    if s != sum_of_cols[i] or s!=sum_of_rows[i]:\n",
    "        is_magic = False\n",
    "        print(\"A is NOT a magic square!\")\n",
    "if s != diag1 or s != diag2:\n",
    "    is_magic = False\n",
    "    print(\"A is NOT a magic square!\")\n",
    "    \n",
    "if is_magic:\n",
    "    print(\"A is indeed a magic square!\")\n",
    "\n",
    "\n",
    "# To sort the 2nd row of A\n",
    "\n",
    "A[1] = np.sort(A[1], axis=0)\n",
    "print(\"With sorted second row of A:\")\n",
    "print(A)\n",
    "# print(sum_of_cols)\n",
    "# print(sum_of_rows)\n",
    "# print(diag1)\n",
    "# print(diag2)"
   ]
  },
  {
   "cell_type": "markdown",
   "metadata": {},
   "source": [
    "### Exercise 5\n",
    "\n",
    "Set $\\textbf{B}$ as an identity matrix, multiplication of $\\textbf{A}$ by $\\textbf{B}$ should yield $\\textbf{A}$. Check this. What does component by component multipilication give? Check this. "
   ]
  },
  {
   "cell_type": "code",
   "execution_count": 17,
   "metadata": {},
   "outputs": [
    {
     "name": "stdout",
     "output_type": "stream",
     "text": [
      "Matrix multiplication: \n",
      "[[16  3  2 13]\n",
      " [ 5  8 10 11]\n",
      " [ 9  6  7 12]\n",
      " [ 4 15 14  1]]\n",
      "Check if A@B yields A: \n",
      "True\n",
      "Component by component multiplication: \n",
      "[[16  0  0  0]\n",
      " [ 0  8  0  0]\n",
      " [ 0  0  7  0]\n",
      " [ 0  0  0  1]]\n"
     ]
    }
   ],
   "source": [
    "# Write your code here\n",
    "B = np.eye(4, dtype=int)\n",
    "AB = A @ B\n",
    "print(\"Matrix multiplication: \")\n",
    "print(AB)\n",
    "print(\"Check if A@B yields A: \")\n",
    "print(AB.all() == A.all())\n",
    "\n",
    "print(\"Component by component multiplication: \")\n",
    "print(A*B)"
   ]
  },
  {
   "cell_type": "markdown",
   "metadata": {},
   "source": [
    "### Exercise 6\n",
    "\n",
    "Count the number of values of $\\textbf{A}$ which are greater than 10 using logical operators."
   ]
  },
  {
   "cell_type": "code",
   "execution_count": 18,
   "metadata": {},
   "outputs": [
    {
     "name": "stdout",
     "output_type": "stream",
     "text": [
      "Number of values of 𝐀 which are greater than 10\n",
      "6\n"
     ]
    }
   ],
   "source": [
    "# Write your code here\n",
    "num = np.count_nonzero(A>10)\n",
    "print(\"Number of values of 𝐀 which are greater than 10\")\n",
    "print(num)"
   ]
  },
  {
   "cell_type": "markdown",
   "metadata": {},
   "source": [
    "### Exercise 7\n",
    "\n",
    "The reciprocal of a number $x$ is  $1/x$. Use `for` loops to  create  a new matrix $\\textbf{B}$, where each element in $\\textbf{B}$ is the reciprocal of the corresponding element in $\\textbf{A}$, and sum the columns of $\\textbf{B}$. Now create the same matrix $\\textbf{B}$ and calculate its column sums in a single operation, using matrix commands, without a `for` loop."
   ]
  },
  {
   "cell_type": "code",
   "execution_count": 19,
   "metadata": {},
   "outputs": [
    {
     "name": "stdout",
     "output_type": "stream",
     "text": [
      "Matrix B: \n",
      "[[0.0625     0.33333333 0.5        0.07692308]\n",
      " [0.2        0.125      0.1        0.09090909]\n",
      " [0.11111111 0.16666667 0.14285714 0.08333333]\n",
      " [0.25       0.06666667 0.07142857 1.        ]]\n",
      "Sum of columns: \n",
      "[0.6236111111111111, 0.6916666666666667, 0.8142857142857143, 1.2511655011655012]\n",
      "Sum of columns without for loops: \n",
      "[0.62361111 0.69166667 0.81428571 1.2511655 ]\n"
     ]
    }
   ],
   "source": [
    "# Write your code here\n",
    "\n",
    "# with for loops\n",
    "l = list()\n",
    "for i in range(A.shape[0]):\n",
    "    for j in range(A.shape[1]):\n",
    "        l.append(1/A[i,j])\n",
    "B = np.array([l]).reshape(4,4)\n",
    "print(\"Matrix B: \")\n",
    "print(B)\n",
    "\n",
    "sum_c = []\n",
    "for i in range(A.shape[0]):\n",
    "    current = 0\n",
    "    for j in range(A.shape[1]):\n",
    "        current = current + B[j,i]\n",
    "    sum_c.append(current)\n",
    "\n",
    "print(\"Sum of columns: \")\n",
    "print(sum_c)\n",
    "# print(np.sum(B, axis=0))\n",
    "\n",
    "# without for loops\n",
    "print(\"Sum of columns without for loops: \")\n",
    "print(np.sum(1/A, axis=0))"
   ]
  },
  {
   "cell_type": "markdown",
   "metadata": {},
   "source": [
    "### Exercise 8\n",
    "\n",
    "Plot the log and square root of the integers from $1$ to $100$ in one single figure. Provide axis names, legend and title for the figure."
   ]
  },
  {
   "cell_type": "code",
   "execution_count": 20,
   "metadata": {},
   "outputs": [
    {
     "data": {
      "image/png": "[encoded data removed]",
      "text/plain": [
       "<Figure size 432x288 with 1 Axes>"
      ]
     },
     "metadata": {
      "needs_background": "light"
     },
     "output_type": "display_data"
    }
   ],
   "source": [
    "# Write your code here\n",
    "from matplotlib import pyplot as plt\n",
    "\n",
    "x = np.arange(1, 101)\n",
    "y = np.log(x)\n",
    "z = np.sqrt(x)\n",
    "plt.plot(x, y, label=\"Log\")\n",
    "plt.xlabel('x')\n",
    "plt.ylabel('Values after performing the operation (x)')\n",
    "\n",
    "plt.plot(x, z, label=\"Square Root\")\n",
    "plt.title('Log(x) vs Square Root(x)')\n",
    "plt.legend()\n",
    "plt.show()"
   ]
  },
  {
   "cell_type": "markdown",
   "metadata": {},
   "source": [
    "### Exercise 9\n",
    "\n",
    "Let $\\boldsymbol{y} $ be an $N$-dimensional column vector with $y_i$ denoting its $i$-th element. \n",
    "Let $\\textbf{X}$ be an $N$ by $D$ matrix and $\\boldsymbol{x}_{i}$ be a column vector which is the transpose of the $i$-th row of $\\textbf{X}$.\n",
    "Let $\\boldsymbol{w}$ be a $D$-dimensional column vector. \n",
    "Choose a value for $N$ and a value for $D$ as you like, generate $\\boldsymbol{y}$, $\\textbf{X}$ and $\\boldsymbol{w}$ containing random elements.\n",
    "Use matrix operations and `for` loops to verify the following two quantities are equal. \n",
    "$$ \\boldsymbol{g}_1 = \\textbf{X}^T\\textbf{X} \\boldsymbol{w}-\\textbf{X}^T \\boldsymbol{y}$$\n",
    "$$ \\boldsymbol{g}_2 = \\sum_{i=1}^N \\left(\\boldsymbol{x}_{i}^T \\boldsymbol{w}- y_i\\right) \\boldsymbol{x}_{i}$$\n"
   ]
  },
  {
   "cell_type": "code",
   "execution_count": 21,
   "metadata": {},
   "outputs": [
    {
     "name": "stdout",
     "output_type": "stream",
     "text": [
      "Value for g1:\n",
      "[[107854]\n",
      " [103030]\n",
      " [155422]\n",
      " [167117]\n",
      " [118033]]\n",
      "Value for g2:\n",
      "[107854 103030 155422 167117 118033]\n",
      "Checking if g1=g2:\n",
      "True\n"
     ]
    }
   ],
   "source": [
    "# Write your code here\n",
    "N = 3\n",
    "D = 5\n",
    "y = np.random.randint(1,50, size=[N,1])\n",
    "# print(y)\n",
    "\n",
    "X = np.random.randint(1,50, size=[N,D])\n",
    "# print(X)\n",
    "\n",
    "w = np.random.randint(1,50, size=[D,1])\n",
    "# print(w)\n",
    "\n",
    "g1 = X.T@X@w - X.T@y\n",
    "print(\"Value for g1:\")\n",
    "print(g1)\n",
    "\n",
    "g2=0\n",
    "for i in range(N):\n",
    "    g2 = g2+(X[i].T@w - y[i])*X[i]\n",
    "\n",
    "print(\"Value for g2:\")\n",
    "print(g2)\n",
    "\n",
    "print(\"Checking if g1=g2:\")\n",
    "print((g1.squeeze() == g2).all())"
   ]
  },
  {
   "cell_type": "markdown",
   "metadata": {},
   "source": [
    "### Exercise 10\n",
    "\n",
    "Calculate the derivative of function $f(x) = x^2+3x+1$ at 10 randomly chosen values of $x$. Write a user-defined function for calculating an approximated derivative of an input function based on \n",
    "\n",
    "$$\\frac{d f(x)}{d x}=\\frac{f(x+\\Delta x)-f(x)}{\\Delta x} ~ .$$\n",
    "\n",
    "Use this function to calculate the approximated derivative for $f(x) = x^2+3x+1$ at the same 10 chosen values of $x$ for $\\Delta x = 1$, $\\Delta x = 0.1$ and $\\Delta x = 0.001$. Plot your derivatives and the approximated derivatives in the same figure. Which $\\Delta x$ gives you a better approximation?"
   ]
  },
  {
   "cell_type": "code",
   "execution_count": 22,
   "metadata": {},
   "outputs": [
    {
     "data": {
      "image/png": "[encoded data removed]",
      "text/plain": [
       "<Figure size 432x288 with 1 Axes>"
      ]
     },
     "metadata": {
      "needs_background": "light"
     },
     "output_type": "display_data"
    },
    {
     "name": "stdout",
     "output_type": "stream",
     "text": [
      "This plot shows that Δx=0.001 gives us the best approximation of the derivative of the function f(x).\n"
     ]
    }
   ],
   "source": [
    "# Write your code here\n",
    "def derr(a):\n",
    "    a = 2*a+3\n",
    "    return a\n",
    "\n",
    "def func(a):\n",
    "    return a**2+3*a+1\n",
    "\n",
    "def d_func(a, delta):\n",
    "    return (func(a+delta) - func(a))/delta\n",
    "\n",
    "arr = np.random.rand(10)\n",
    "\n",
    "big = d_func(arr, 1.0)\n",
    "med = d_func(arr, 0.1)\n",
    "low = d_func(arr, 0.001)\n",
    "plt.scatter(arr, big, label=\"Δx=1\")\n",
    "plt.xlabel('x')\n",
    "plt.ylabel('Derivative with respect to \"x\"')\n",
    "plt.scatter(arr, med, label=\"Δx=0.1\")\n",
    "plt.scatter(arr, low, label=\"Δx=0.001\")\n",
    "plt.plot(arr, derr(arr), label=\"Exact derivative\")\n",
    "plt.title('Derivatives')\n",
    "plt.legend()\n",
    "plt.show()\n",
    "\n",
    "print(\"This plot shows that Δx=0.001 gives us the best approximation of the derivative of the function f(x).\")\n"
   ]
  },
  {
   "cell_type": "markdown",
   "metadata": {},
   "source": [
    "### Exercise 11\n",
    "\n",
    "Given two $d$-dimensional data points $\\boldsymbol{x} = [x_1,x_2,\\dots,x_d]$ and $\\boldsymbol{y}=[y_1,y_2,\\dots,y_d]$. The Euclidean distance between these two points is computed as \n",
    "\n",
    "$$\n",
    "d(\\boldsymbol{x},\\boldsymbol{y}) = \\sqrt{\\sum_{i=1}^d (x_i-y_i)^2} = \\sqrt{\\boldsymbol{x}\\boldsymbol{x}^T - 2\\boldsymbol{x}\\boldsymbol{y}^T+\\boldsymbol{y}\\boldsymbol{y}^T}.\n",
    "$$\n",
    "\n",
    "Generate $5$ random $3$-dimensional points and store them in a $5\\times 3$ matrix called $\\textbf{A}$ ($5$ rows and $3$ columns). Generate another $8$ random $3$-dimensional points and store them in a $8\\times 3$ matrix called $\\textbf{B}$ ($8$ rows and $3$ columns). Calculate the Euclidean distance between the $5$ and $8$ points, and store these distances in a $5\\times 8$ matrix called $\\textbf{D}$ using `for` loops ($5$ rows and $8$ colums). "
   ]
  },
  {
   "cell_type": "code",
   "execution_count": 23,
   "metadata": {
    "scrolled": true
   },
   "outputs": [
    {
     "name": "stdout",
     "output_type": "stream",
     "text": [
      "Matrix A: \n",
      "[[15  8  2]\n",
      " [ 6 16  0]\n",
      " [ 2 17 16]\n",
      " [16  8  9]\n",
      " [17 11 15]]\n",
      "Matrix B: \n",
      "[[10  4  6]\n",
      " [ 1 16 12]\n",
      " [18  2 13]\n",
      " [ 1 17  1]\n",
      " [ 0 16  0]\n",
      " [11  9  8]\n",
      " [19 12  4]\n",
      " [ 4 17  0]]\n",
      "Calculating the Euclidean distance between the points...\n",
      "[[ 7.54983444 18.97366596 12.88409873 16.673332   17.11724277  7.28010989\n",
      "   6.         14.35270009]\n",
      " [14.         13.         22.56102835  5.19615242  6.         11.74734012\n",
      "  14.17744688  2.23606798]\n",
      " [18.24828759  4.24264069 22.13594362 15.03329638 16.15549442 14.45683229\n",
      "  21.40093456 16.1245155 ]\n",
      " [ 7.81024968 17.2626765   7.48331477 19.23538406 20.02498439  5.19615242\n",
      "   7.07106781 17.49285568]\n",
      " [13.37908816 17.02938637  9.2736185  22.09072203 23.21637353  9.43398113\n",
      "  11.22497216 20.73644135]]\n"
     ]
    }
   ],
   "source": [
    "# Write your code here\n",
    "# x1 = np.random.randint(1,20,size=3) - random 3d point\n",
    "x = list()\n",
    "y = list()\n",
    "for i in range(5):\n",
    "    x.append(np.random.randint(0,20, size=3))\n",
    "for i in range(8):\n",
    "    y.append(np.random.randint(0,20, size=3))\n",
    "A = np.array(x)\n",
    "print(\"Matrix A: \")\n",
    "print(A)\n",
    "\n",
    "B = np.array(y)\n",
    "print(\"Matrix B: \")\n",
    "print(B)\n",
    "\n",
    "# Initialise matrix D\n",
    "D = np.ones([5,8])\n",
    "for i in range(5):\n",
    "    for j in range(8):\n",
    "        D[i,j] = np.sqrt(A[i]@A[i].T - 2*A[i]@B[j].T + B[j]@B[j].T)\n",
    "\n",
    "print(\"Calculating the Euclidean distance between the points...\")\n",
    "print(D)"
   ]
  },
  {
   "cell_type": "markdown",
   "metadata": {},
   "source": [
    "### Exercise 12\n",
    "\n",
    "Repeat Exercise 11 using matrix operations only, without loops."
   ]
  },
  {
   "cell_type": "code",
   "execution_count": 24,
   "metadata": {},
   "outputs": [
    {
     "name": "stdout",
     "output_type": "stream",
     "text": [
      "Without for loops: \n",
      "[[ 7.54983444 18.97366596 12.88409873 16.673332   17.11724277  7.28010989\n",
      "   6.         14.35270009]\n",
      " [14.         13.         22.56102835  5.19615242  6.         11.74734012\n",
      "  14.17744688  2.23606798]\n",
      " [18.24828759  4.24264069 22.13594362 15.03329638 16.15549442 14.45683229\n",
      "  21.40093456 16.1245155 ]\n",
      " [ 7.81024968 17.2626765   7.48331477 19.23538406 20.02498439  5.19615242\n",
      "   7.07106781 17.49285568]\n",
      " [13.37908816 17.02938637  9.2736185  22.09072203 23.21637353  9.43398113\n",
      "  11.22497216 20.73644135]]\n"
     ]
    }
   ],
   "source": [
    "# Write your code here\n",
    "D = np.sqrt(np.sum(np.square(A[:,np.newaxis,:] - B), axis=2))\n",
    "print(\"Without for loops: \")\n",
    "print(D)"
   ]
  }
 ],
 "metadata": {
  "kernelspec": {
   "display_name": "Python 3",
   "language": "python",
   "name": "python3"
  },
  "language_info": {
   "codemirror_mode": {
    "name": "ipython",
    "version": 3
   },
   "file_extension": ".py",
   "mimetype": "text/x-python",
   "name": "python",
   "nbconvert_exporter": "python",
   "pygments_lexer": "ipython3",
   "version": "3.7.6"
  }
 },
 "nbformat": 4,
 "nbformat_minor": 2
}
